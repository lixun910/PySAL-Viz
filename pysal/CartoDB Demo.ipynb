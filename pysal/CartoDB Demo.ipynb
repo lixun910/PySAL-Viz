{
 "metadata": {
  "name": ""
 },
 "nbformat": 3,
 "nbformat_minor": 0,
 "worksheets": [
  {
   "cells": [
    {
     "cell_type": "code",
     "collapsed": false,
     "input": [
      "import pysal\n",
      "\n",
      "# load San Francisco plots data using PySAL\n",
      "shp_path = \"../test_data/sfpd_plots.shp\"\n",
      "plots_shp = pysal.open(shp_path)\n",
      "plots_dbf = pysal.open(shp_path[:-3]+\"dbf\") "
     ],
     "language": "python",
     "metadata": {},
     "outputs": []
    },
    {
     "cell_type": "code",
     "collapsed": false,
     "input": [
      "import d3viz\n",
      "d3viz.setup()"
     ],
     "language": "python",
     "metadata": {},
     "outputs": []
    },
    {
     "cell_type": "code",
     "collapsed": false,
     "input": [
      "\"\"\"\n",
      "Viualize the map using d3viz\n",
      "\"\"\"\n",
      "d3viz.show_map(plots_shp)"
     ],
     "language": "python",
     "metadata": {},
     "outputs": []
    },
    {
     "cell_type": "code",
     "collapsed": false,
     "input": [
      "\"\"\"\n",
      "Read and show Car theft data in the same plots area\n",
      "\"\"\"\n",
      "shp_path = \"/data/sf_cartheft.shp\"\n",
      "crime_shp = pysal.open(shp_path)\n",
      "crime_dbf = pysal.open(shp_path[:-3]+\"dbf\")\n",
      "\n",
      "d3viz.add_layer(crime_shp)"
     ],
     "language": "python",
     "metadata": {},
     "outputs": []
    },
    {
     "cell_type": "code",
     "collapsed": false,
     "input": [
      "\"\"\"\n",
      "Now, let's show these maps in CartoDB, and use CartoDB API\n",
      "to do some cool things.\n",
      "\n",
      "Setup CartoDB using your user name and API_KEY\n",
      "Note: Get your API Key from CartoDB: http://docs.cartodb.com/cartodb-editor.html#api-key\n",
      "\"\"\"\n",
      "user_name = 'lixun910'\n",
      "api_key = '340808e9a453af9680684a65990eb4eb706e9b56'\n",
      "\n",
      "d3viz.setup_cartodb(api_key, user_name)"
     ],
     "language": "python",
     "metadata": {},
     "outputs": []
    },
    {
     "cell_type": "code",
     "collapsed": false,
     "input": [
      "\"\"\"\n",
      "Upload polygon shapefile via CartoDB.com\n",
      "Upload point shapefile via CartoDB.com\n",
      "\"\"\"\n",
      "\n",
      "plots_table = d3viz.cartodb_upload(plots_shp)\n",
      "crime_table = d3viz.cartodb_upload(crime_shp)\n",
      "print plots_table\n",
      "print crime_table"
     ],
     "language": "python",
     "metadata": {},
     "outputs": []
    },
    {
     "cell_type": "code",
     "collapsed": false,
     "input": [
      "\"\"\"\n",
      "Show the polygon shapefile using CartoDB\n",
      "\"\"\"\n",
      "d3viz.cartodb_show_maps(plots_shp)"
     ],
     "language": "python",
     "metadata": {},
     "outputs": []
    },
    {
     "cell_type": "code",
     "collapsed": false,
     "input": [
      "\"\"\"\n",
      "Show the polygon shapefile and point shapefile in one CartoDB map\n",
      "\"\"\"\n",
      "d3viz.cartodb_show_maps(plots_shp, layers=[{'shp':crime_shp}])"
     ],
     "language": "python",
     "metadata": {},
     "outputs": []
    },
    {
     "cell_type": "code",
     "collapsed": false,
     "input": [
      "\"\"\"\n",
      "Show the plots shapefile with points data in intensity cloud\n",
      "\"\"\"\n",
      "d3viz.cartodb_show_maps(plots_shp, layers=[{'shp':crime_shp, 'css':d3viz.CARTO_CSS_POINT_CLOUD}])"
     ],
     "language": "python",
     "metadata": {},
     "outputs": []
    },
    {
     "cell_type": "code",
     "collapsed": false,
     "input": [
      "\"\"\"\n",
      "Do something cool: couting points in polygon, \n",
      "and store the counting result in a new column in polygon table\n",
      "\"\"\"\n",
      "new_cnt_col = \"mycnt\"\n",
      "d3viz.cartodb_count_pts_in_polys(plots_table, crime_table, new_cnt_col)\n",
      "print new_cnt_col, \" added.\""
     ],
     "language": "python",
     "metadata": {},
     "outputs": []
    },
    {
     "cell_type": "code",
     "collapsed": false,
     "input": [
      "\"\"\"\n",
      "Download the counting data for spatial analysis using PySAL\n",
      "\"\"\"\n",
      "shp_path = d3viz.cartodb_get_data(plots_table, [new_cnt_col])\n",
      "\n",
      "shp = pysal.open(shp_path)\n",
      "dbf = pysal.open(shp_path[:-3]+\"dbf\") "
     ],
     "language": "python",
     "metadata": {},
     "outputs": []
    },
    {
     "cell_type": "code",
     "collapsed": false,
     "input": [
      "d3viz.cartodb_quantile_map(shp, new_cnt_col, 5, uuid=plots_table)"
     ],
     "language": "python",
     "metadata": {},
     "outputs": []
    },
    {
     "cell_type": "code",
     "collapsed": false,
     "input": [
      "\"\"\"\n",
      "prepare for running LISA\n",
      "\"\"\"\n",
      "w = pysal.rook_from_shapefile(shp_path)\n",
      "\n",
      "import numpy as np\n",
      "y = np.array(dbf.by_col[new_cnt_col])\n"
     ],
     "language": "python",
     "metadata": {},
     "outputs": []
    },
    {
     "cell_type": "code",
     "collapsed": false,
     "input": [
      "\"\"\"\n",
      "Run LISA and store results in CartoDB in a new table ~ 5 seconds\n",
      "\"\"\"\n",
      "lm = pysal.Moran_Local(y, w)\n",
      "\n",
      "new_lisa_table = \"cartheft_lisa\" \n",
      "new_lisa_table = d3viz.cartodb_lisa(lm, new_lisa_table)"
     ],
     "language": "python",
     "metadata": {},
     "outputs": []
    },
    {
     "cell_type": "code",
     "collapsed": false,
     "input": [
      "\"\"\"\n",
      "Show LISA map by joining lisa results table and plots table in CartoDB\n",
      "\"\"\"\n",
      "d3viz.cartodb_show_lisa_map(shp, new_lisa_table, uuid=plots_table)"
     ],
     "language": "python",
     "metadata": {},
     "outputs": []
    },
    {
     "cell_type": "code",
     "collapsed": false,
     "input": [
      "\"\"\"\n",
      "Show LISA map with points dense map in CartoDB\n",
      "\"\"\"\n",
      "d3viz.cartodb_show_lisa_map(shp, new_lisa_table, uuid=plots_table, layers=[{'shp':crime_shp, 'css':d3viz.CARTO_CSS_POINT_CLOUD}])"
     ],
     "language": "python",
     "metadata": {},
     "outputs": []
    },
    {
     "cell_type": "code",
     "collapsed": false,
     "input": [
      "d3viz.quantile_map(shp, new_cnt_col, 5, basemap=\"leaflet_map\", uuid=plots_table)"
     ],
     "language": "python",
     "metadata": {},
     "outputs": []
    },
    {
     "cell_type": "code",
     "collapsed": false,
     "input": [
      "d3viz.quantile_map(shp, new_cnt_col, 5, uuid=plots_table)"
     ],
     "language": "python",
     "metadata": {},
     "outputs": []
    },
    {
     "cell_type": "code",
     "collapsed": false,
     "input": [
      "d3viz.close_all()"
     ],
     "language": "python",
     "metadata": {},
     "outputs": []
    },
    {
     "cell_type": "code",
     "collapsed": false,
     "input": [],
     "language": "python",
     "metadata": {},
     "outputs": []
    }
   ],
   "metadata": {}
  }
 ]
}