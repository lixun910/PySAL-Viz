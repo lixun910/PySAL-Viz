{
 "metadata": {
  "name": ""
 },
 "nbformat": 3,
 "nbformat_minor": 0,
 "worksheets": [
  {
   "cells": [
    {
     "cell_type": "code",
     "collapsed": false,
     "input": [
      "\"\"\"\n",
      "Open the projected road network data (unit: feet) using PySAL \n",
      "\"\"\"\n",
      "import pysal\n",
      "road_shp = pysal.open('../test_data/man_road.shp')    \n",
      "road_dbf = pysal.open('../test_data/man_road.dbf') "
     ],
     "language": "python",
     "metadata": {},
     "outputs": []
    },
    {
     "cell_type": "code",
     "collapsed": false,
     "input": [
      "import d3viz\n",
      "d3viz.setup()"
     ],
     "language": "python",
     "metadata": {},
     "outputs": []
    },
    {
     "cell_type": "code",
     "collapsed": false,
     "input": [
      "\"\"\"\n",
      "Show how the data looks like\n",
      "\"\"\"\n",
      "d3viz.show_map(road_shp)"
     ],
     "language": "python",
     "metadata": {},
     "outputs": []
    },
    {
     "cell_type": "code",
     "collapsed": false,
     "input": [
      "\"\"\"\n",
      "Using network_cluster package to do network analysis\n",
      "\"\"\"\n",
      "import network_cluster \n",
      "roadJsonFile = d3viz.get_json_path(road_shp)\n",
      "\n",
      "network = network_cluster.NetworkCluster(roadJsonFile) "
     ],
     "language": "python",
     "metadata": {},
     "outputs": []
    },
    {
     "cell_type": "code",
     "collapsed": false,
     "input": [
      "\"\"\"\n",
      "Segment the road network equally in 1,000 feet\n",
      "\"\"\"\n",
      "n = network.SegmentNetwork(1000)\n",
      "\n",
      "print \"# of roads:\", len(road_shp)\n",
      "print \"# of segmented roads:\", n"
     ],
     "language": "python",
     "metadata": {},
     "outputs": []
    },
    {
     "cell_type": "code",
     "collapsed": false,
     "input": [
      "\"\"\"\n",
      "Read into car accident points file (2012)\n",
      "Show the data on the same map\n",
      "\"\"\"\n",
      "points_shp = pysal.open('../test_data/man_points.shp')\n",
      "d3viz.add_layer(points_shp)"
     ],
     "language": "python",
     "metadata": {},
     "outputs": []
    },
    {
     "cell_type": "code",
     "collapsed": false,
     "input": [
      "\"\"\"\n",
      "Snap these points to nearest road segment ~ 3-5 seconds\n",
      "\"\"\"\n",
      "pointsJsonFile = d3viz.get_json_path(points_shp)\n",
      "points = network_cluster.GetJsonPoints(pointsJsonFile) \n",
      "\n",
      "print \"# of points\", len(points_shp)    \n",
      "network.SnapPointsToNetwork(points)"
     ],
     "language": "python",
     "metadata": {},
     "outputs": []
    },
    {
     "cell_type": "code",
     "collapsed": false,
     "input": [
      "\"\"\"\n",
      "Export the counts of points on each road segment to a new ShapeFile\n",
      "\"\"\"\n",
      "road_shp_w_count = \"../test_data/man_seg_road.shp\"\n",
      "network.ExportCountsToShp(road_shp_w_count)"
     ],
     "language": "python",
     "metadata": {},
     "outputs": []
    },
    {
     "cell_type": "code",
     "collapsed": false,
     "input": [
      "\"\"\"\n",
      "Show the segmented road network map\n",
      "\"\"\"\n",
      "road_shp = pysal.open(road_shp_w_count)  \n",
      "\n",
      "d3viz.show_map(road_shp)    \n"
     ],
     "language": "python",
     "metadata": {},
     "outputs": []
    },
    {
     "cell_type": "code",
     "collapsed": false,
     "input": [
      "\"\"\"\n",
      "Show a Equan Interval map by the counts in the segmented road network\n",
      "\"\"\"\n",
      "d3viz.equal_interval_map(road_shp, 'cnt', 5)"
     ],
     "language": "python",
     "metadata": {},
     "outputs": []
    },
    {
     "cell_type": "code",
     "collapsed": false,
     "input": [
      "\"\"\"\n",
      "^^^^^^^^^\n",
      "Before we do LISA, let's visualize the map using CartoDB\n",
      "\"\"\"\n",
      "d3viz.setup_cartodb(\"340808e9a453af9680684a65990eb4eb706e9b56\",\"lixun910\")"
     ],
     "language": "python",
     "metadata": {},
     "outputs": []
    },
    {
     "cell_type": "code",
     "collapsed": false,
     "input": [
      "\"\"\"\n",
      "Let's upload the segment roadnetwork data to CartoDB cloud first.\n",
      "\"\"\"\n",
      "# add a projection file, which is same with the points or road shape file\n",
      "import shutil\n",
      "shutil.copyfile(\"../test_data/man_road.prj\", \"../test_data/man_seg_road.prj\")\n",
      "\n",
      "road_table = d3viz.cartodb_upload(road_shp_w_count)"
     ],
     "language": "python",
     "metadata": {},
     "outputs": []
    },
    {
     "cell_type": "code",
     "collapsed": false,
     "input": [
      "\"\"\"\n",
      "Since CartoDB uses WGS 84 coordinates, in order to do brush/link,\n",
      "we download this map with WGS84. (we can also convert locally).\n",
      "\"\"\"\n",
      "prj_road_count_file = d3viz.cartodb_get_data(road_table, loc=\"../test_data/\")\n",
      "print prj_road_count_file"
     ],
     "language": "python",
     "metadata": {},
     "outputs": []
    },
    {
     "cell_type": "code",
     "collapsed": false,
     "input": [
      "\"\"\"\n",
      "Now, let's show the maps\n",
      "\"\"\"\n",
      "prj_road_shp = pysal.open(prj_road_count_file)\n",
      "prj_road_dbf = pysal.open(prj_road_count_file[:-3] + \"dbf\")\n",
      "\n",
      "d3viz.show_map(prj_road_shp, uuid=road_table, rebuild=True) \n",
      "\n",
      "d3viz.cartodb_show_maps(prj_road_shp, uuid=road_table)  "
     ],
     "language": "python",
     "metadata": {},
     "outputs": []
    },
    {
     "cell_type": "code",
     "collapsed": false,
     "input": [
      "\"\"\"\n",
      "Show a quantile map using CartoDB\n",
      "\"\"\"\n",
      "d3viz.cartodb_quantile_map(prj_road_shp, 'cnt', 5, uuid=road_table) "
     ],
     "language": "python",
     "metadata": {},
     "outputs": []
    },
    {
     "cell_type": "code",
     "collapsed": false,
     "input": [
      "\"\"\"\n",
      "For LISA analysis, we need to create a weights file for the segmented road network first. \n",
      "About 20 seconds? \n",
      "\"\"\"\n",
      "# Create a Queen Contiguity Weights \n",
      "network.CreateWeights()    \n",
      "\n",
      "roadWFile = '../test_data/man_road.gal'\n",
      "network.ExportWeights(roadWFile)  "
     ],
     "language": "python",
     "metadata": {},
     "outputs": []
    },
    {
     "cell_type": "code",
     "collapsed": false,
     "input": [
      "\"\"\"\n",
      "LISA ~20 seconds\n",
      "\"\"\"\n",
      "import numpy as np\n",
      "y = np.array(prj_road_dbf.by_col[\"cnt\"])\n",
      "\n",
      "road_w = pysal.open(roadWFile).read()    \n",
      "\n",
      "lm = pysal.Moran_Local(y, road_w)"
     ],
     "language": "python",
     "metadata": {},
     "outputs": []
    },
    {
     "cell_type": "code",
     "collapsed": false,
     "input": [
      "\"\"\"\n",
      "To show the LISA map in CartoDB, we need to create a table to store LISA results first.\n",
      "\"\"\"\n",
      "new_lisa_table = \"road_lisa\"\n",
      "new_lisa_table = d3viz.cartodb_lisa(lm, new_lisa_table)"
     ],
     "language": "python",
     "metadata": {},
     "outputs": []
    },
    {
     "cell_type": "code",
     "collapsed": false,
     "input": [
      "\"\"\"\n",
      "Then, we can link this LISA results table with the geometry table to show a LISA map.\n",
      "\"\"\"\n",
      "d3viz.cartodb_show_lisa_map(road_shp, new_lisa_table, uuid=road_table)"
     ],
     "language": "python",
     "metadata": {},
     "outputs": []
    },
    {
     "cell_type": "code",
     "collapsed": false,
     "input": [
      "\"\"\"\n",
      "We can also show the LISA map locally.\n",
      "\"\"\"\n",
      "d3viz.lisa_map(prj_road_shp, \"cnt\", lm, uuid=road_table)"
     ],
     "language": "python",
     "metadata": {},
     "outputs": []
    },
    {
     "cell_type": "code",
     "collapsed": false,
     "input": [
      "d3viz.close_all()"
     ],
     "language": "python",
     "metadata": {},
     "outputs": []
    },
    {
     "cell_type": "code",
     "collapsed": false,
     "input": [],
     "language": "python",
     "metadata": {},
     "outputs": []
    }
   ],
   "metadata": {}
  }
 ]
}