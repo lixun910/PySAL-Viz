{
 "metadata": {
  "name": ""
 },
 "nbformat": 3,
 "nbformat_minor": 0,
 "worksheets": [
  {
   "cells": [
    {
     "cell_type": "code",
     "collapsed": false,
     "input": [
      "\"\"\"\n",
      "Open the projected road network data (unit: feet) using PySAL \n",
      "\"\"\"\n",
      "import pysal\n",
      "road_shp = pysal.open('../test_data/man_road.shp')    \n",
      "road_dbf = pysal.open('../test_data/man_road.dbf') "
     ],
     "language": "python",
     "metadata": {},
     "outputs": [],
     "prompt_number": 1
    },
    {
     "cell_type": "code",
     "collapsed": false,
     "input": [
      "import d3viz\n",
      "d3viz.setup()"
     ],
     "language": "python",
     "metadata": {},
     "outputs": [
      {
       "output_type": "stream",
       "stream": "stdout",
       "text": [
        "starting websocket server...\n",
        "starting http server...\n"
       ]
      }
     ],
     "prompt_number": 2
    },
    {
     "cell_type": "code",
     "collapsed": false,
     "input": [
      "\"\"\"\n",
      "Show how the data looks like\n",
      "\"\"\"\n",
      "d3viz.show_map(road_shp)"
     ],
     "language": "python",
     "metadata": {},
     "outputs": [
      {
       "output_type": "stream",
       "stream": "stdout",
       "text": [
        "creating geojson ...\n",
        "The geojson data has been created before. If you want re-create geojson data, please call shp2json(shp, rebuild=True).\n",
        "send: {\"command\": \"show_map\", \"uuid\": \"9ccd2fec1973eebff48b1cbb26b26237\"}\n"
       ]
      }
     ],
     "prompt_number": 3
    },
    {
     "cell_type": "code",
     "collapsed": false,
     "input": [
      "\"\"\"\n",
      "Using network_cluster package to do network analysis\n",
      "\"\"\"\n",
      "import network_cluster \n",
      "roadJsonFile = d3viz.get_json_path(road_shp)\n",
      "\n",
      "network = network_cluster.NetworkCluster(roadJsonFile) "
     ],
     "language": "python",
     "metadata": {},
     "outputs": [],
     "prompt_number": 4
    },
    {
     "cell_type": "code",
     "collapsed": false,
     "input": [
      "\"\"\"\n",
      "Segment the road network equally in 1,000 feet\n",
      "\"\"\"\n",
      "n = network.SegmentNetwork(1000)\n",
      "\n",
      "print \"# of roads:\", len(road_shp)\n",
      "print \"# of segmented roads:\", n"
     ],
     "language": "python",
     "metadata": {},
     "outputs": [
      {
       "output_type": "stream",
       "stream": "stdout",
       "text": [
        "# of roads: 6005\n",
        "# of segmented roads: 8875\n"
       ]
      }
     ],
     "prompt_number": 5
    },
    {
     "cell_type": "code",
     "collapsed": false,
     "input": [
      "\"\"\"\n",
      "Read into car accident points file (2012)\n",
      "Show the data on the same map\n",
      "\"\"\"\n",
      "points_shp = pysal.open('../test_data/man_points.shp')\n",
      "d3viz.add_layer(points_shp)"
     ],
     "language": "python",
     "metadata": {},
     "outputs": [
      {
       "output_type": "stream",
       "stream": "stdout",
       "text": [
        "creating geojson ...\n",
        "The geojson data has been created before. If you want re-create geojson data, please call shp2json(shp, rebuild=True).\n",
        "send: {\"command\": \"add_layer\", \"uuid\": \"77edde2357a378151b804496d605c46f\"}\n"
       ]
      }
     ],
     "prompt_number": 6
    },
    {
     "cell_type": "code",
     "collapsed": false,
     "input": [
      "\"\"\"\n",
      "Snap these points to nearest road segment ~ 3-5 seconds\n",
      "\"\"\"\n",
      "pointsJsonFile = d3viz.get_json_path(points_shp)\n",
      "points = network_cluster.GetJsonPoints(pointsJsonFile) \n",
      "\n",
      "print \"# of points\", len(points_shp)    \n",
      "network.SnapPointsToNetwork(points)"
     ],
     "language": "python",
     "metadata": {},
     "outputs": [
      {
       "output_type": "stream",
       "stream": "stdout",
       "text": [
        "# of points 20696\n"
       ]
      }
     ],
     "prompt_number": 7
    },
    {
     "cell_type": "code",
     "collapsed": false,
     "input": [
      "\"\"\"\n",
      "Export the counts of points on each road segment to a new ShapeFile\n",
      "\"\"\"\n",
      "road_shp_w_count = \"../test_data/man_seg_road.shp\"\n",
      "network.ExportCountsToShp(road_shp_w_count)"
     ],
     "language": "python",
     "metadata": {},
     "outputs": [],
     "prompt_number": 8
    },
    {
     "cell_type": "code",
     "collapsed": false,
     "input": [
      "\"\"\"\n",
      "Show the segmented road network map\n",
      "\"\"\"\n",
      "road_shp = pysal.open(road_shp_w_count)  \n",
      "\n",
      "d3viz.show_map(road_shp)    \n",
      "\n"
     ],
     "language": "python",
     "metadata": {},
     "outputs": [
      {
       "output_type": "stream",
       "stream": "stdout",
       "text": [
        "creating geojson ...\n",
        "The geojson data has been created before. If you want re-create geojson data, please call shp2json(shp, rebuild=True).\n",
        "send: {\"command\": \"show_map\", \"uuid\": \"fada5469634f1c862e648cf39a78cf3b\"}\n"
       ]
      }
     ],
     "prompt_number": 9
    },
    {
     "cell_type": "code",
     "collapsed": false,
     "input": [
      "\"\"\"\n",
      "Show a Equan Interval map by the counts in the segmented road network\n",
      "\"\"\"\n",
      "d3viz.equal_interval_map(road_shp, 'cnt', 5)"
     ],
     "language": "python",
     "metadata": {},
     "outputs": []
    },
    {
     "cell_type": "code",
     "collapsed": false,
     "input": [
      "\"\"\"\n",
      "^^^^^^^^^\n",
      "Before we do LISA, let's visualize the map using CartoDB\n",
      "\"\"\"\n",
      "d3viz.setup_cartodb(\"340808e9a453af9680684a65990eb4eb706e9b56\",\"lixun910\")"
     ],
     "language": "python",
     "metadata": {},
     "outputs": [],
     "prompt_number": 10
    },
    {
     "cell_type": "code",
     "collapsed": false,
     "input": [
      "\"\"\"\n",
      "Let's upload the segment roadnetwork data to CartoDB cloud first.\n",
      "\"\"\"\n",
      "# add a projection file, which is same with the points or road shape file\n",
      "import shutil\n",
      "shutil.copyfile(\"../test_data/man_road.prj\", \"../test_data/man_seg_road.prj\")\n",
      "\n",
      "road_table = d3viz.cartodb_upload(road_shp_w_count)"
     ],
     "language": "python",
     "metadata": {},
     "outputs": [
      {
       "output_type": "stream",
       "stream": "stdout",
       "text": [
        "table fada5469634f1c862e648cf39a78cf3b existed\n"
       ]
      },
      {
       "output_type": "stream",
       "stream": "stderr",
       "text": [
        "/Library/Python/2.7/site-packages/requests/packages/urllib3/connectionpool.py:730: InsecureRequestWarning: Unverified HTTPS request is being made. Adding certificate verification is strongly advised. See: https://urllib3.readthedocs.org/en/latest/security.html (This warning will only appear once by default.)\n",
        "  InsecureRequestWarning)\n"
       ]
      }
     ],
     "prompt_number": 11
    },
    {
     "cell_type": "code",
     "collapsed": false,
     "input": [
      "\"\"\"\n",
      "Since CartoDB uses WGS 84 coordinates, in order to do brush/link,\n",
      "we download this map with WGS84. (we can also convert locally).\n",
      "\"\"\"\n",
      "prj_road_count_file = d3viz.cartodb_get_data(road_table, loc=\"../test_data/\")\n",
      "print prj_road_count_file"
     ],
     "language": "python",
     "metadata": {},
     "outputs": [
      {
       "output_type": "stream",
       "stream": "stdout",
       "text": [
        "../test_data/fada5469634f1c862e648cf39a78cf3b.shp\n"
       ]
      }
     ],
     "prompt_number": 12
    },
    {
     "cell_type": "code",
     "collapsed": false,
     "input": [
      "\"\"\"\n",
      "Now, let's show the maps\n",
      "\"\"\"\n",
      "prj_road_shp = pysal.open(prj_road_count_file)\n",
      "prj_road_dbf = pysal.open(prj_road_count_file[:-3] + \"dbf\")\n",
      "\n",
      "d3viz.show_map(prj_road_shp, uuid=road_table, rebuild=True) \n",
      "\n",
      "d3viz.cartodb_show_maps(prj_road_shp, uuid=road_table)  "
     ],
     "language": "python",
     "metadata": {},
     "outputs": [
      {
       "output_type": "stream",
       "stream": "stdout",
       "text": [
        "creating geojson ...\n",
        "reading data ...\n",
        "send:"
       ]
      },
      {
       "output_type": "stream",
       "stream": "stdout",
       "text": [
        " {\"command\": \"show_map\", \"uuid\": \"fada5469634f1c862e648cf39a78cf3b\"}\n"
       ]
      }
     ],
     "prompt_number": 13
    },
    {
     "cell_type": "code",
     "collapsed": false,
     "input": [
      "\"\"\"\n",
      "Show a quantile map using CartoDB\n",
      "\"\"\"\n",
      "d3viz.cartodb_quantile_map(prj_road_shp, 'cnt', 5, uuid=road_table) "
     ],
     "language": "python",
     "metadata": {},
     "outputs": [],
     "prompt_number": 14
    },
    {
     "cell_type": "code",
     "collapsed": false,
     "input": [
      "\"\"\"\n",
      "For LISA analysis, we need to create a weights file for the segmented road network first. \n",
      "About 20 seconds? \n",
      "\"\"\"\n",
      "# Create a Queen Contiguity Weights \n",
      "network.CreateWeights()    \n",
      "\n",
      "roadWFile = '../test_data/man_road.gal'\n",
      "network.ExportWeights(roadWFile)  "
     ],
     "language": "python",
     "metadata": {},
     "outputs": [
      {
       "output_type": "stream",
       "stream": "stdout",
       "text": [
        "WARNING: there are 313 disconnected observations\n",
        "Island ids:  [41, 54, 120, 125, 217, 224, 298, 301, 348, 424, 426, 427, 433, 450, 465, 500, 543, 582, 623, 640, 649, 703, 720, 730, 793, 871, 878, 895, 908, 921, 968, 1044, 1046, 1056, 1057, 1061, 1145, 1182, 1203, 1294, 1322, 1347, 1374, 1395, 1422, 1424, 1445, 1482, 1493, 1544, 1631, 1632, 1646, 1660, 1799, 1891, 1910, 1926, 1933, 1974, 2005, 2026, 2034, 2055, 2136, 2164, 2166, 2201, 2293, 2311, 2320, 2330, 2336, 2398, 2408, 2437, 2450, 2455, 2549, 2580, 2645, 2668, 2676, 2729, 2731, 2781, 2803, 2807, 2870, 2893, 2897, 2933, 2938, 2942, 2968, 2995, 2998, 3033, 3051, 3063, 3105, 3128, 3160, 3244, 3344, 3348, 3367, 3391, 3417, 3438, 3445, 3461, 3504, 3541, 3568, 3644, 3655, 3663, 3670, 3695, 3724, 3738, 3760, 3863, 3888, 3899, 3911, 3932, 3974, 4006, 4007, 4027, 4077, 4083, 4100, 4135, 4170, 4182, 4201, 4244, 4270, 4283, 4325, 4382, 4410, 4430, 4456, 4484, 4508, 4515, 4523, 4541, 4618, 4619, 4625, 4640, 4651, 4767, 4800, 4808, 4818, 4895, 4898, 4899, 4902, 4935, 4942, 4952, 4983, 5012, 5020, 5055, 5089, 5190, 5204, 5245, 5260, 5286, 5294, 5303, 5382, 5397, 5404, 5413, 5445, 5481, 5488, 5536, 5546, 5565, 5625, 5710, 5718, 5734, 5745, 5749, 5782, 5800, 5844, 5906, 5932, 5949, 5983, 5992, 6009, 6077, 6084, 6130, 6143, 6225, 6260, 6279, 6285, 6299, 6305, 6363, 6444, 6448, 6473, 6474, 6492, 6511, 6515, 6537, 6571, 6587, 6644, 6692, 6696, 6716, 6731, 6773, 6777, 6842, 6843, 6915, 6933, 6934, 6937, 6944, 7002, 7046, 7067, 7102, 7164, 7193, 7210, 7217, 7233, 7287, 7309, 7311, 7323, 7424, 7495, 7498, 7499, 7530, 7546, 7572, 7578, 7589, 7590, 7641, 7657, 7692, 7740, 7828, 7838, 7839, 7858, 7878, 7994, 8002, 8005, 8010, 8021, 8030, 8096, 8105, 8170, 8183, 8215, 8260, 8276, 8297, 8318, 8327, 8332, 8344, 8355, 8413, 8418, 8427, 8443, 8505, 8516, 8522, 8568, 8589, 8591, 8600, 8617, 8633, 8636, 8656, 8679, 8705, 8742, 8751, 8774, 8777, 8836]\n"
       ]
      }
     ],
     "prompt_number": 17
    },
    {
     "cell_type": "code",
     "collapsed": false,
     "input": [
      "\"\"\"\n",
      "LISA ~20 seconds\n",
      "\"\"\"\n",
      "import numpy as np\n",
      "y = np.array(prj_road_dbf.by_col[\"cnt\"])\n",
      "\n",
      "road_w = pysal.open(roadWFile).read()    \n",
      "\n",
      "lm = pysal.Moran_Local(y, road_w)"
     ],
     "language": "python",
     "metadata": {},
     "outputs": [
      {
       "output_type": "stream",
       "stream": "stdout",
       "text": [
        "WARNING: there are 313 disconnected observations\n",
        "Island ids:  ['5983', '623', '871', '8297', '5844', '4625', '7210', '7217', '6777', '6773', '8030', '8522', '2729', '7233', '5382', '793', '7495', '1926', '4767', '5800', '8010', '5481', '8633', '3911', '6731', '8318', '217', '6084', '3644', '5012', '4410', '7164', '8636', '2005', '1182', '6279', '3063', '6473', '6474', '6915', '3932', '8332', '6716', '3663', '4430', '7102', '5413', '2293', '6299', '3438', '878', '5204', '1322', '8355', '5782', '4456', '1660', '1544', '3417', '450', '1347', '4006', '4007', '3974', '1646', '2803', '2807', '4270', '8589', '4800', '4808', '6492', '6944', '4027', '298', '5055', '3348', '5536', '6571', '7692', '6143', '2055', '7323', '7067', '3461', '2164', '2166', '1974', '6515', '7546', '4515', '5286', '7309', '7046', '433', '1056', '1057', '4983', '2408', '1482', '6537', '5932', '4083', '6644', '2398', '1933', '3367', '1203', '8418', '8413', '7589', '6077', '7002', '2942', '5745', '5749', '5260', '4942', '5245', '1910', '8516', '2580', '3541', '2968', '3738', '1891', '2781', '1799', '6842', '6843', '4100', '3899', '3568', '4484', '703', '120', '125', '8170', '8215', '7657', '5089', '2676', '720', '2034', '8002', '4935', '2311', '4651', '8836', '8505', '5625', '5992', '7499', '7498', '3695', '1145', '7193', '8021', '4283', '2731', '6225', '3033', '8705', '224', '4619', '4618', '7424', '3344', '4182', '8183', '3655', '921', '5397', '2897', '2893', '2136', '2668', '4899', '4898', '6260', '4902', '7740', '3670', '2549', '908', '8742', '1061', '6285', '2026', '3051', '6444', '6448', '5020', '968', '649', '640', '5190', '4201', '5565', '301', '4895', '7287', '6933', '6937', '6934', '8344', '4077', '582', '3391', '5404', '5546', '8591', '6130', '7530', '8105', '465', '1445', '7878', '6305', '4244', '41', '348', '8751', '4818', '4382', '1374', '2455', '2450', '7858', '6363', '2870', '5445', '543', '8443', '6511', '2201', '4523', '7994', '5294', '2998', '54', '2995', '424', '427', '426', '1422', '2330', '1424', '2336', '6692', '6696', '2437', '7838', '7839', '1493', '1395', '4170', '4508', '7311', '8617', '5718', '5710', '5488', '500', '8260', '8276', '3863', '7572', '7578', '5906', '3105', '8679', '5734', '8096', '4952', '8427', '7590', '4135', '4541', '8600', '1046', '1044', '3128', '8656', '3445', '2320', '3724', '895', '5949', '2645', '5303', '4325', '1631', '1632', '3504', '6587', '7828', '3888', '8327', '6009', '2938', '2933', '3160', '730', '8568', '3760', '4640', '1294', '3244', '8005', '8777', '8774', '7641']\n",
        "WARNING:  5983  is an island (no neighbors)\n",
        "WARNING:  8010  is an island (no neighbors)\n",
        "WARNING:  8297  is an island (no neighbors)\n",
        "WARNING:  5844  is an island (no neighbors)\n",
        "WARNING:  4625  is an island (no neighbors)\n",
        "WARNING:  7210  is an island (no neighbors)\n",
        "WARNING:  7217  is an island (no neighbors)\n",
        "WARNING:  6777  is an island (no neighbors)\n",
        "WARNING:  6773  is an island (no neighbors)\n",
        "WARNING:  5055  is an island (no neighbors)\n",
        "WARNING:  8030  is an island (no neighbors)\n",
        "WARNING:  8522  is an island (no neighbors)\n",
        "WARNING:  2729  is an island (no neighbors)\n",
        "WARNING:  7233  is an island (no neighbors)\n",
        "WARNING:  5382  is an island (no neighbors)\n",
        "WARNING:  793  is an island (no neighbors)\n",
        "WARNING:  8505  is an island (no neighbors)\n",
        "WARNING:  7499  is an island (no neighbors)\n",
        "WARNING:  7495  is an island (no neighbors)\n",
        "WARNING:  4767  is an island (no neighbors)\n",
        "WARNING:  5800  is an island (no neighbors)\n",
        "WARNING:  7287  is an island (no neighbors)\n",
        "WARNING:  3911  is an island (no neighbors)\n",
        "WARNING:  6731  is an island (no neighbors)\n",
        "WARNING:  8318  is an island (no neighbors)\n",
        "WARNING:  217  is an island (no neighbors)\n",
        "WARNING:  6084  is an island (no neighbors)\n",
        "WARNING:  3644  is an island (no neighbors)\n",
        "WARNING:  5012  is an island (no neighbors)\n",
        "WARNING:  4410  is an island (no neighbors)\n",
        "WARNING:  7164  is an island (no neighbors)\n",
        "WARNING:  6279  is an island (no neighbors)\n",
        "WARNING:  3063  is an island (no neighbors)\n",
        "WARNING:  6473  is an island (no neighbors)\n",
        "WARNING:  6474  is an island (no neighbors)\n",
        "WARNING:  3932  is an island (no neighbors)\n",
        "WARNING:  8332  is an island (no neighbors)\n",
        "WARNING:  6716  is an island (no neighbors)\n",
        "WARNING:  3663  is an island (no neighbors)\n",
        "WARNING:  4430  is an island (no neighbors)\n",
        "WARNING:  871  is an island (no neighbors)\n",
        "WARNING:  7102  is an island (no neighbors)\n",
        "WARNING:  5413  is an island (no neighbors)\n",
        "WARNING:  6937  is an island (no neighbors)\n",
        "WARNING:  6934  is an island (no neighbors)\n",
        "WARNING:  2293  is an island (no neighbors)\n",
        "WARNING:  6299  is an island (no neighbors)\n",
        "WARNING:  3438  is an island (no neighbors)\n",
        "WARNING:  878  is an island (no neighbors)\n",
        "WARNING:  5204  is an island (no neighbors)\n",
        "WARNING:  1910  is an island (no neighbors)\n",
        "WARNING:  1322  is an island (no neighbors)\n",
        "WARNING:  8355  is an island (no neighbors)\n",
        "WARNING:  5782  is an island (no neighbors)\n",
        "WARNING:  4456  is an island (no neighbors)\n",
        "WARNING:  1660  is an island (no neighbors)\n",
        "WARNING:  1544  is an island (no neighbors)\n",
        "WARNING:  1933  is an island (no neighbors)\n",
        "WARNING:  8021  is an island (no neighbors)\n",
        "WARNING:  4006  is an island (no neighbors)\n",
        "WARNING:  4007  is an island (no neighbors)\n",
        "WARNING:  3974  is an island (no neighbors)\n",
        "WARNING:  3417  is an island (no neighbors)\n",
        "WARNING:  1646  is an island (no neighbors)\n",
        "WARNING:  2803  is an island (no neighbors)\n",
        "WARNING:  2807  is an island (no neighbors)\n",
        "WARNING:  3367  is an island (no neighbors)\n",
        "WARNING:  4270  is an island (no neighbors)\n",
        "WARNING:  8589  is an island (no neighbors)\n",
        "WARNING:  4800  is an island (no neighbors)\n",
        "WARNING:  2781  is an island (no neighbors)\n",
        "WARNING:  4808  is an island (no neighbors)\n",
        "WARNING:  8170  is an island (no neighbors)\n",
        "WARNING:  6944  is an island (no neighbors)\n",
        "WARNING:  4027  is an island (no neighbors)\n",
        "WARNING:  298  is an island (no neighbors)\n",
        "WARNING:  3348  is an island (no neighbors)\n",
        "WARNING:  5536  is an island (no neighbors)\n",
        "WARNING:  6571  is an island (no neighbors)\n",
        "WARNING:  450  is an island (no neighbors)\n",
        "WARNING:  7692  is an island (no neighbors)\n",
        "WARNING:  1347  is an island (no neighbors)\n",
        "WARNING:  6143  is an island (no neighbors)\n",
        "WARNING:  2055  is an island (no neighbors)\n",
        "WARNING:  7323  is an island (no neighbors)\n",
        "WARNING:  7067  is an island (no neighbors)\n",
        "WARNING:  4952  is an island (no neighbors)\n",
        "WARNING:  6515  is an island (no neighbors)\n",
        "WARNING:  7546  is an island (no neighbors)\n",
        "WARNING:  4515  is an island (no neighbors)\n",
        "WARNING:  5286  is an island (no neighbors)\n",
        "WARNING:  7309  is an island (no neighbors)\n",
        "WARNING:  7046  is an island (no neighbors)\n",
        "WARNING:  433  is an island (no neighbors)\n",
        "WARNING:  1056  is an island (no neighbors)\n",
        "WARNING:  1057  is an island (no neighbors)\n",
        "WARNING:  2408  is an island (no neighbors)\n",
        "WARNING:  1482  is an island (no neighbors)\n",
        "WARNING:  623  is an island (no neighbors)\n",
        "WARNING:  6537  is an island (no neighbors)\n",
        "WARNING:  5932  is an island (no neighbors)\n",
        "WARNING:  1631  is an island (no neighbors)\n",
        "WARNING:  4083  is an island (no neighbors)\n",
        "WARNING:  6644  is an island (no neighbors)\n",
        "WARNING:  2398  is an island (no neighbors)\n",
        "WARNING:  1203  is an island (no neighbors)\n",
        "WARNING:  465  is an island (no neighbors)\n",
        "WARNING:  8418  is an island (no neighbors)\n",
        "WARNING:  8413  is an island (no neighbors)\n",
        "WARNING:  7589  is an island (no neighbors)\n",
        "WARNING:  5303  is an island (no neighbors)\n",
        "WARNING:  6077  is an island (no neighbors)\n",
        "WARNING:  7002  is an island (no neighbors)\n",
        "WARNING:  2942  is an island (no neighbors)\n",
        "WARNING:  5745  is an island (no neighbors)\n",
        "WARNING:  5749  is an island (no neighbors)\n",
        "WARNING:  5260  is an island (no neighbors)\n",
        "WARNING:  4942  is an island (no neighbors)\n",
        "WARNING:  5245  is an island (no neighbors)\n",
        "WARNING:  2580  is an island (no neighbors)\n",
        "WARNING:  5404  is an island (no neighbors)\n",
        "WARNING:  3541  is an island (no neighbors)\n",
        "WARNING:  7424  is an island (no neighbors)\n",
        "WARNING:  1046  is an island (no neighbors)\n",
        "WARNING:  1044  is an island (no neighbors)\n",
        "WARNING:  3738  is an island (no neighbors)\n",
        "WARNING:  2136  is an island (no neighbors)\n",
        "WARNING:  1799  is an island (no neighbors)\n",
        "WARNING:  6842  is an island (no neighbors)\n",
        "WARNING:  6843  is an island (no neighbors)\n",
        "WARNING:  4100  is an island (no neighbors)\n",
        "WARNING:  3899  is an island (no neighbors)\n",
        "WARNING:  3568  is an island (no neighbors)\n",
        "WARNING:  4484  is an island (no neighbors)\n",
        "WARNING:  703  is an island (no neighbors)\n",
        "WARNING:  4902  is an island (no neighbors)\n",
        "WARNING:  120  is an island (no neighbors)\n",
        "WARNING:  125  is an island (no neighbors)\n",
        "WARNING:  1182  is an island (no neighbors)\n",
        "WARNING:  8215  is an island (no neighbors)\n",
        "WARNING:  7657  is an island (no neighbors)\n",
        "WARNING:  3391  is an island (no neighbors)\n",
        "WARNING:  6492  is an island (no neighbors)\n",
        "WARNING:  5089  is an island (no neighbors)\n",
        "WARNING:  2676  is an island (no neighbors)\n",
        "WARNING:  720  is an island (no neighbors)\n",
        "WARNING:  2034  is an island (no neighbors)\n",
        "WARNING:  8002  is an island (no neighbors)\n",
        "WARNING:  3724  is an island (no neighbors)\n",
        "WARNING:  2311  is an island (no neighbors)\n",
        "WARNING:  4651  is an island (no neighbors)\n",
        "WARNING:  8836  is an island (no neighbors)\n",
        "WARNING:  5625  is an island (no neighbors)\n",
        "WARNING:  5992  is an island (no neighbors)\n",
        "WARNING:  7498  is an island (no neighbors)\n",
        "WARNING:  3695  is an island (no neighbors)\n",
        "WARNING:  1145  is an island (no neighbors)\n",
        "WARNING:  7193  is an island (no neighbors)\n",
        "WARNING:  2968  is an island (no neighbors)\n",
        "WARNING:  4283  is an island (no neighbors)\n",
        "WARNING:  2731  is an island (no neighbors)\n",
        "WARNING:  6225  is an island (no neighbors)\n",
        "WARNING:  3033  is an island (no neighbors)\n",
        "WARNING:  8705  is an island (no neighbors)\n",
        "WARNING:  224  is an island (no neighbors)\n",
        "WARNING:  8516  is an island (no neighbors)\n",
        "WARNING:  4619  is an island (no neighbors)\n",
        "WARNING:  4618  is an island (no neighbors)\n",
        "WARNING:  4182  is an island (no neighbors)\n",
        "WARNING:  8183  is an island (no neighbors)\n",
        "WARNING:  3655  is an island (no neighbors)\n",
        "WARNING:  921  is an island (no neighbors)\n",
        "WARNING:  5397  is an island (no neighbors)\n",
        "WARNING:  1374  is an island (no neighbors)\n",
        "WARNING:  2897  is an island (no neighbors)\n",
        "WARNING:  2893  is an island (no neighbors)\n",
        "WARNING:  1891  is an island (no neighbors)\n",
        "WARNING:  4899  is an island (no neighbors)\n",
        "WARNING:  4898  is an island (no neighbors)\n",
        "WARNING:  6260  is an island (no neighbors)\n",
        "WARNING:  3461  is an island (no neighbors)\n",
        "WARNING:  7740  is an island (no neighbors)\n",
        "WARNING:  3670  is an island (no neighbors)\n",
        "WARNING:  2549  is an island (no neighbors)\n",
        "WARNING:  908  is an island (no neighbors)\n",
        "WARNING:  6285  is an island (no neighbors)\n",
        "WARNING:  2026  is an island (no neighbors)\n",
        "WARNING:  3051  is an island (no neighbors)\n",
        "WARNING:  6915  is an island (no neighbors)\n",
        "WARNING:  6448  is an island (no neighbors)\n",
        "WARNING:  5020  is an island (no neighbors)\n",
        "WARNING:  968  is an island (no neighbors)\n",
        "WARNING:  649  is an island (no neighbors)\n",
        "WARNING:  640  is an island (no neighbors)\n",
        "WARNING:  4201  is an island (no neighbors)\n",
        "WARNING:  5565  is an island (no neighbors)\n",
        "WARNING:  301  is an island (no neighbors)\n",
        "WARNING:  4895  is an island (no neighbors)\n",
        "WARNING:  2005  is an island (no neighbors)\n",
        "WARNING:  6933  is an island (no neighbors)\n",
        "WARNING:  8344  is an island (no neighbors)\n",
        "WARNING:  4077  is an island (no neighbors)\n",
        "WARNING:  582  is an island (no neighbors)\n",
        "WARNING:  5546  is an island (no neighbors)\n",
        "WARNING:  8591  is an island (no neighbors)\n",
        "WARNING:  6130  is an island (no neighbors)\n",
        "WARNING:  8105  is an island (no neighbors)\n",
        "WARNING:  1445  is an island (no neighbors)\n",
        "WARNING:  7878  is an island (no neighbors)\n",
        "WARNING:  6305  is an island (no neighbors)\n",
        "WARNING:  4244  is an island (no neighbors)\n",
        "WARNING:  41  is an island (no neighbors)\n",
        "WARNING:  348  is an island (no neighbors)\n",
        "WARNING:  4523  is an island (no neighbors)\n",
        "WARNING:  6587  is an island (no neighbors)\n",
        "WARNING:  4818  is an island (no neighbors)\n",
        "WARNING:  4382  is an island (no neighbors)\n",
        "WARNING:  2455  is an island (no neighbors)\n",
        "WARNING:  2450  is an island (no neighbors)\n",
        "WARNING:  7858  is an island (no neighbors)\n",
        "WARNING:  6363  is an island (no neighbors)\n",
        "WARNING:  1974  is an island (no neighbors)\n",
        "WARNING:  5190  is an island (no neighbors)\n",
        "WARNING:  2870  is an island (no neighbors)\n",
        "WARNING:  5445  is an island (no neighbors)\n",
        "WARNING:  543  is an island (no neighbors)\n",
        "WARNING:  8443  is an island (no neighbors)\n",
        "WARNING:  7530  is an island (no neighbors)\n",
        "WARNING:  2201  is an island (no neighbors)\n",
        "WARNING:  7994  is an island (no neighbors)\n",
        "WARNING:  5294  is an island (no neighbors)\n",
        "WARNING:  8636  is an island (no neighbors)\n",
        "WARNING:  8633  is an island (no neighbors)\n",
        "WARNING:  2998  is an island (no neighbors)\n",
        "WARNING:  54  is an island (no neighbors)\n",
        "WARNING:  2995  is an island (no neighbors)\n",
        "WARNING:  424  is an island (no neighbors)\n",
        "WARNING:  427  is an island (no neighbors)\n",
        "WARNING:  426  is an island (no neighbors)\n",
        "WARNING:  1422  is an island (no neighbors)\n",
        "WARNING:  2330  is an island (no neighbors)\n",
        "WARNING:  1424  is an island (no neighbors)\n",
        "WARNING:  2336  is an island (no neighbors)\n",
        "WARNING:  6692  is an island (no neighbors)\n",
        "WARNING:  6696  is an island (no neighbors)\n",
        "WARNING:  2437  is an island (no neighbors)\n",
        "WARNING:  7838  is an island (no neighbors)\n",
        "WARNING:  7839  is an island (no neighbors)\n",
        "WARNING:  6511  is an island (no neighbors)\n",
        "WARNING:  1395  is an island (no neighbors)\n",
        "WARNING:  4170  is an island (no neighbors)\n",
        "WARNING:  4508  is an island (no neighbors)\n",
        "WARNING:  7311  is an island (no neighbors)\n",
        "WARNING:  8617  is an island (no neighbors)\n",
        "WARNING:  5718  is an island (no neighbors)\n",
        "WARNING:  5710  is an island (no neighbors)\n",
        "WARNING:  1926  is an island (no neighbors)\n",
        "WARNING:  5488  is an island (no neighbors)\n",
        "WARNING:  5481  is an island (no neighbors)\n",
        "WARNING:  500  is an island (no neighbors)\n",
        "WARNING:  8260  is an island (no neighbors)\n",
        "WARNING:  8276  is an island (no neighbors)\n",
        "WARNING:  3863  is an island (no neighbors)\n",
        "WARNING:  7572  is an island (no neighbors)\n",
        "WARNING:  7578  is an island (no neighbors)\n",
        "WARNING:  5906  is an island (no neighbors)\n",
        "WARNING:  8742  is an island (no neighbors)\n",
        "WARNING:  3105  is an island (no neighbors)\n",
        "WARNING:  8679  is an island (no neighbors)\n",
        "WARNING:  5734  is an island (no neighbors)\n",
        "WARNING:  8096  is an island (no neighbors)\n",
        "WARNING:  2164  is an island (no neighbors)\n",
        "WARNING:  2166  is an island (no neighbors)\n",
        "WARNING:  1493  is an island (no neighbors)\n",
        "WARNING:  8427  is an island (no neighbors)\n",
        "WARNING:  7590  is an island (no neighbors)\n",
        "WARNING:  4135  is an island (no neighbors)\n",
        "WARNING:  4541  is an island (no neighbors)\n",
        "WARNING:  8600  is an island (no neighbors)\n",
        "WARNING:  3128  is an island (no neighbors)\n",
        "WARNING:  8656  is an island (no neighbors)\n",
        "WARNING:  3445  is an island (no neighbors)\n",
        "WARNING:  4935  is an island (no neighbors)\n",
        "WARNING:  895  is an island (no neighbors)\n",
        "WARNING:  4640  is an island (no neighbors)\n",
        "WARNING:  5949  is an island (no neighbors)\n",
        "WARNING:  3344  is an island (no neighbors)\n",
        "WARNING:  2645  is an island (no neighbors)\n",
        "WARNING:  1061  is an island (no neighbors)\n",
        "WARNING:  4325  is an island (no neighbors)\n",
        "WARNING:  1632  is an island (no neighbors)\n",
        "WARNING:  3504  is an island (no neighbors)\n",
        "WARNING:  6444  is an island (no neighbors)\n",
        "WARNING:  8751  is an island (no neighbors)\n",
        "WARNING:  7828  is an island (no neighbors)\n",
        "WARNING:  3888  is an island (no neighbors)\n",
        "WARNING:  8327  is an island (no neighbors)\n",
        "WARNING:  6009  is an island (no neighbors)\n",
        "WARNING:  2668  is an island (no neighbors)\n",
        "WARNING:  2938  is an island (no neighbors)\n",
        "WARNING:  2933  is an island (no neighbors)\n",
        "WARNING:  3160  is an island (no neighbors)\n",
        "WARNING:  4983  is an island (no neighbors)\n",
        "WARNING:  730  is an island (no neighbors)\n",
        "WARNING:  8568  is an island (no neighbors)\n",
        "WARNING:  2320  is an island (no neighbors)\n",
        "WARNING:  3760  is an island (no neighbors)\n",
        "WARNING:  3244  is an island (no neighbors)\n",
        "WARNING:  8005  is an island (no neighbors)\n",
        "WARNING:  8777  is an island (no neighbors)\n",
        "WARNING:  8774  is an island (no neighbors)\n",
        "WARNING:  7641  is an island (no neighbors)\n",
        "WARNING:  1294  is an island (no neighbors)\n"
       ]
      }
     ],
     "prompt_number": 18
    },
    {
     "cell_type": "code",
     "collapsed": false,
     "input": [
      "\"\"\"\n",
      "We can show the LISA map locally.\n",
      "\"\"\"\n",
      "d3viz.lisa_map(prj_road_shp, lm, uuid=road_table)"
     ],
     "language": "python",
     "metadata": {},
     "outputs": [
      {
       "ename": "TypeError",
       "evalue": "lisa_map() takes exactly 4 arguments (3 given)",
       "output_type": "pyerr",
       "traceback": [
        "\u001b[0;31m---------------------------------------------------------------------------\u001b[0m\n\u001b[0;31mTypeError\u001b[0m                                 Traceback (most recent call last)",
        "\u001b[0;32m<ipython-input-19-9aabba58a2de>\u001b[0m in \u001b[0;36m<module>\u001b[0;34m()\u001b[0m\n\u001b[1;32m      2\u001b[0m \u001b[0mWe\u001b[0m \u001b[0mcan\u001b[0m \u001b[0mshow\u001b[0m \u001b[0mthe\u001b[0m \u001b[0mLISA\u001b[0m \u001b[0mmap\u001b[0m \u001b[0mlocally\u001b[0m\u001b[0;34m.\u001b[0m\u001b[0;34m\u001b[0m\u001b[0m\n\u001b[1;32m      3\u001b[0m \"\"\"\n\u001b[0;32m----> 4\u001b[0;31m \u001b[0md3viz\u001b[0m\u001b[0;34m.\u001b[0m\u001b[0mlisa_map\u001b[0m\u001b[0;34m(\u001b[0m\u001b[0mprj_road_shp\u001b[0m\u001b[0;34m,\u001b[0m \u001b[0;34m\"cnt\"\u001b[0m\u001b[0;34m,\u001b[0m \u001b[0mroad_w\u001b[0m\u001b[0;34m)\u001b[0m\u001b[0;34m\u001b[0m\u001b[0m\n\u001b[0m",
        "\u001b[0;31mTypeError\u001b[0m: lisa_map() takes exactly 4 arguments (3 given)"
       ]
      }
     ],
     "prompt_number": 19
    },
    {
     "cell_type": "code",
     "collapsed": false,
     "input": [
      "\"\"\"\n",
      "To show the LISA map in CartoDB, we need to create a table to store LISA results first.\n",
      "\"\"\"\n",
      "new_lisa_table = \"road_lisa\"\n",
      "new_lisa_table = d3viz.cartodb_lisa(lm, new_lisa_table)"
     ],
     "language": "python",
     "metadata": {},
     "outputs": [
      {
       "output_type": "stream",
       "stream": "stdout",
       "text": [
        "Uploading file...\n",
        "Importing data..."
       ]
      },
      {
       "output_type": "stream",
       "stream": "stdout",
       "text": [
        "\n",
        "Table \"road_lisa\" created"
       ]
      },
      {
       "output_type": "stream",
       "stream": "stdout",
       "text": [
        "\n"
       ]
      }
     ],
     "prompt_number": 20
    },
    {
     "cell_type": "code",
     "collapsed": false,
     "input": [
      "\"\"\"\n",
      "Then, we can link this LISA results table with the geometry table to show a LISA map.\n",
      "\"\"\"\n",
      "d3viz.cartodb_show_lisa_map(road_shp, new_lisa_table, uuid=road_table)"
     ],
     "language": "python",
     "metadata": {},
     "outputs": [],
     "prompt_number": 21
    },
    {
     "cell_type": "code",
     "collapsed": false,
     "input": [
      "d3viz.close_all()"
     ],
     "language": "python",
     "metadata": {},
     "outputs": [],
     "prompt_number": "*"
    },
    {
     "cell_type": "code",
     "collapsed": false,
     "input": [],
     "language": "python",
     "metadata": {},
     "outputs": []
    }
   ],
   "metadata": {}
  }
 ]
}