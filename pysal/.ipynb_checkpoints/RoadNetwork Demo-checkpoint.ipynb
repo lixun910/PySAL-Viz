{
 "metadata": {
  "name": ""
 },
 "nbformat": 3,
 "nbformat_minor": 0,
 "worksheets": [
  {
   "cells": [
    {
     "cell_type": "code",
     "collapsed": false,
     "input": [
      "from network_cluster import NetworkCluster"
     ],
     "language": "python",
     "metadata": {},
     "outputs": [],
     "prompt_number": 1
    },
    {
     "cell_type": "code",
     "collapsed": false,
     "input": [
      "roadJsonFile = '../test_data/man_road.geojson'\n",
      "network = NetworkCluster(roadJsonFile)"
     ],
     "language": "python",
     "metadata": {},
     "outputs": [],
     "prompt_number": 2
    },
    {
     "cell_type": "code",
     "collapsed": false,
     "input": [
      "# Segment the road network equally in 1,000 feet\n",
      "network.SegmentNetwork(1000)"
     ],
     "language": "python",
     "metadata": {},
     "outputs": [],
     "prompt_number": 3
    },
    {
     "cell_type": "code",
     "collapsed": false,
     "input": [
      "# Create a Queen Contiguity Weights based on the segmentation\n",
      "network.CreateWeights()"
     ],
     "language": "python",
     "metadata": {},
     "outputs": [],
     "prompt_number": 4
    },
    {
     "cell_type": "code",
     "collapsed": false,
     "input": [
      "# Export Weights to a GAL file\n",
      "roadWFile = '../test_data/man_road.gal'\n",
      "network.ExportWeights(roadWFile)"
     ],
     "language": "python",
     "metadata": {},
     "outputs": [
      {
       "output_type": "stream",
       "stream": "stdout",
       "text": [
        "WARNING: there are 313 disconnected observations\n",
        "Island ids:  [41, 54, 120, 125, 217, 224, 298, 301, 348, 424, 426, 427, 433, 450, 465, 500, 543, 582, 623, 640, 649, 704, 721, 731, 794, 872, 879, 896, 909, 922, 969, 1045, 1047, 1057, 1058, 1062, 1145, 1182, 1203, 1293, 1321, 1346, 1373, 1395, 1423, 1425, 1446, 1483, 1494, 1544, 1631, 1632, 1646, 1660, 1800, 1892, 1911, 1927, 1934, 1974, 2005, 2026, 2033, 2054, 2135, 2162, 2164, 2200, 2293, 2311, 2320, 2330, 2336, 2398, 2408, 2437, 2450, 2455, 2549, 2580, 2645, 2669, 2677, 2730, 2732, 2782, 2803, 2807, 2870, 2893, 2897, 2933, 2938, 2942, 2968, 2995, 2998, 3033, 3051, 3063, 3105, 3129, 3161, 3245, 3345, 3349, 3368, 3392, 3418, 3439, 3446, 3462, 3504, 3541, 3568, 3643, 3654, 3662, 3669, 3694, 3723, 3737, 3759, 3862, 3887, 3898, 3910, 3931, 3973, 4005, 4006, 4028, 4078, 4084, 4101, 4136, 4171, 4183, 4201, 4244, 4270, 4283, 4326, 4383, 4411, 4431, 4485, 4509, 4516, 4524, 4542, 4619, 4620, 4626, 4641, 4652, 4768, 4801, 4809, 4819, 4896, 4898, 4899, 4902, 4935, 4942, 4952, 4982, 5010, 5018, 5053, 5087, 5188, 5202, 5244, 5259, 5286, 5293, 5302, 5381, 5396, 5403, 5412, 5444, 5480, 5487, 5535, 5545, 5564, 5623, 5708, 5716, 5732, 5743, 5747, 5780, 5798, 5841, 5902, 5928, 5945, 5979, 5988, 6005, 6073, 6080, 6126, 6139, 6221, 6257, 6276, 6282, 6296, 6302, 6360, 6441, 6445, 6470, 6471, 6489, 6509, 6513, 6536, 6570, 6585, 6642, 6690, 6694, 6714, 6729, 6771, 6775, 6841, 6842, 6914, 6932, 6933, 6936, 6943, 7000, 7044, 7065, 7100, 7162, 7191, 7208, 7215, 7231, 7285, 7307, 7309, 7321, 7422, 7492, 7495, 7496, 7527, 7543, 7569, 7575, 7586, 7587, 7638, 7654, 7689, 7737, 7825, 7835, 7836, 7855, 7875, 7990, 7998, 8001, 8006, 8017, 8026, 8092, 8101, 8168, 8181, 8213, 8258, 8274, 8295, 8317, 8326, 8331, 8343, 8354, 8413, 8418, 8427, 8443, 8505, 8516, 8522, 8568, 8589, 8591, 8600, 8617, 8633, 8636, 8655, 8678, 8704, 8742, 8751, 8774, 8777, 8811, 8836]\n"
       ]
      }
     ],
     "prompt_number": 5
    },
    {
     "cell_type": "code",
     "collapsed": false,
     "input": [
      "# Read into car accident points file\n",
      "from network_cluster import GetJsonPoints\n",
      "pointsJsonFile = \"../test_data/man_points.geojson\"\n",
      "points = GetJsonPoints(pointsJsonFile)"
     ],
     "language": "python",
     "metadata": {},
     "outputs": [],
     "prompt_number": 6
    },
    {
     "cell_type": "code",
     "collapsed": false,
     "input": [
      "# Snap these points to nearest road segment\n",
      "network.SnapPointsToNetwork(points)"
     ],
     "language": "python",
     "metadata": {},
     "outputs": [],
     "prompt_number": 7
    },
    {
     "cell_type": "code",
     "collapsed": false,
     "input": [
      "# Export the counts of points on each road segment to a new ShapeFile\n",
      "road_count_file = \"../test_data/man_seg_road.shp\"\n",
      "network.ExportCountsToShp(road_count_file)"
     ],
     "language": "python",
     "metadata": {},
     "outputs": [],
     "prompt_number": 8
    },
    {
     "cell_type": "code",
     "collapsed": false,
     "input": [
      "# Visualization with CartoDB\n",
      "import d3viz\n",
      "d3viz.setup()\n",
      "d3viz.setup_cartodb(\"340808e9a453af9680684a65990eb4eb706e9b56\",\"lixun910\")"
     ],
     "language": "python",
     "metadata": {},
     "outputs": [
      {
       "output_type": "stream",
       "stream": "stdout",
       "text": [
        "starting websocket server...\n",
        "starting http server...\n"
       ]
      }
     ],
     "prompt_number": 9
    },
    {
     "cell_type": "code",
     "collapsed": false,
     "input": [
      "# add an projection file, which is the same with the points or road shape file\n",
      "import shutil\n",
      "shutil.copyfile(\"../test_data/man_points.prj\", \"../test_data/man_seg_road.prj\")\n",
      "\n",
      "# upload the map to CartoDB since the Projection is not WGS\n",
      "road_table = d3viz.cartodb_upload(road_count_file)"
     ],
     "language": "python",
     "metadata": {},
     "outputs": [
      {
       "output_type": "stream",
       "stream": "stdout",
       "text": [
        "table fada5469634f1c862e648cf39a78cf3b existed\n"
       ]
      },
      {
       "output_type": "stream",
       "stream": "stderr",
       "text": [
        "/Library/Python/2.7/site-packages/requests/packages/urllib3/connectionpool.py:730: InsecureRequestWarning: Unverified HTTPS request is being made. Adding certificate verification is strongly advised. See: https://urllib3.readthedocs.org/en/latest/security.html (This warning will only appear once by default.)\n",
        "  InsecureRequestWarning)\n"
       ]
      }
     ],
     "prompt_number": 10
    },
    {
     "cell_type": "code",
     "collapsed": false,
     "input": [
      "# download the map with WGS84 projection\n",
      "# NOTE: this is required since brush/link with CartoDB requires WGS84 projection (only)\n",
      "prj_road_count_file = d3viz.cartodb_get_data(road_table, fields=[], loc=\"../test_data/\")\n",
      "print prj_road_count_file"
     ],
     "language": "python",
     "metadata": {},
     "outputs": [
      {
       "output_type": "stream",
       "stream": "stdout",
       "text": [
        "../test_data/fada5469634f1c862e648cf39a78cf3b.shp\n"
       ]
      }
     ],
     "prompt_number": 11
    },
    {
     "cell_type": "code",
     "collapsed": false,
     "input": [
      "# Use PySAL to do LISA analysis\n",
      "import pysal\n",
      "\n",
      "road_shp = pysal.open(prj_road_count_file)\n",
      "road_dbf = pysal.open(prj_road_count_file[:-3] + \"dbf\")\n",
      "road_w = pysal.open(roadWFile).read()"
     ],
     "language": "python",
     "metadata": {},
     "outputs": [
      {
       "output_type": "stream",
       "stream": "stdout",
       "text": [
        "WARNING: there are 313 disconnected observations\n",
        "Island ids:  ['5988', '623', '872', '8017', '8295', '5841', '4620', '4626', '7215', '6775', '6771', '5053', '8522', '7231', '5381', '794', '7492', '7496', '7495', '1927', '4768', '6257', '5244', '8633', '5480', '3910', '217', '6080', '3643', '5010', '5018', '4411', '7162', '8636', '2005', '6914', '1182', '6276', '3063', '6471', '6470', '3931', '8331', '6714', '3662', '3669', '4431', '7100', '5412', '2293', '6296', '3439', '879', '5202', '1321', '7737', '8354', '5780', '6841', '1660', '1544', '5798', '3418', '450', '1346', '4005', '4006', '3973', '1646', '2803', '2807', '1423', '4270', '8589', '6126', '4809', '6943', '4028', '298', '5487', '3349', '5535', '6570', '7527', '5545', '2054', '7321', '7065', '2164', '1974', '6513', '7543', '4516', '5286', '7307', '7309', '7044', '433', '5708', '7825', '1057', '2408', '3245', '1483', '6536', '7569', '4084', '6642', '2398', '1934', '1203', '8101', '8274', '8418', '8413', '7586', '7587', '1062', '6073', '7000', '2942', '1058', '5743', '5747', '2135', '4942', '1911', '8516', '5979', '2580', '3541', '2968', '7422', '3737', '4801', '2782', '6842', '7638', '4101', '3898', '3568', '4485', '704', '120', '125', '8811', '8213', '7654', '3392', '5087', '2677', '721', '2033', '8006', '8001', '4935', '2311', '4652', '8836', '8505', '5623', '3694', '1145', '7191', '8026', '4283', '3759', '2730', '2732', '7208', '6221', '3033', '8704', '224', '5188', '4619', '3345', '5259', '4183', '8181', '3654', '922', '5396', '1373', '2897', '2893', '1892', '2669', '4899', '4898', '4902', '6729', '2549', '909', '8742', '8317', '6282', '3446', '2026', '3051', '6445', '6441', '969', '649', '640', '4201', '5564', '301', '4896', '7285', '6932', '6933', '6936', '8343', '3462', '4078', '582', '5403', '8591', '6139', '465', '6489', '1446', '7875', '6302', '4244', '41', '348', '4524', '8751', '4819', '8168', '4383', '2455', '2450', '7855', '6360', '4982', '2870', '5444', '543', '7689', '8443', '2200', '7990', '7998', '5293', '2998', '54', '2995', '424', '427', '426', '1425', '8258', '2330', '2336', '6690', '6694', '2437', '7835', '7836', '1800', '1494', '1395', '6509', '4171', '5928', '4509', '8617', '5716', '500', '3862', '7575', '5902', '3105', '8678', '5732', '8092', '4952', '2162', '8427', '4136', '4542', '8600', '1047', '1045', '3129', '8655', '2320', '3723', '896', '5945', '2645', '5302', '4326', '1631', '1632', '3504', '6585', '3368', '3887', '8326', '6005', '2938', '2933', '3161', '731', '8568', '1293', '4641', '8777', '8774']\n"
       ]
      }
     ],
     "prompt_number": 12
    },
    {
     "cell_type": "code",
     "collapsed": false,
     "input": [
      "# show the basic map\n",
      "d3viz.show_map(road_shp, road_dbf, uuid=road_table)"
     ],
     "language": "python",
     "metadata": {},
     "outputs": [
      {
       "output_type": "stream",
       "stream": "stdout",
       "text": [
        "creating geojson ...\n",
        "The geojson data has been created before. If you want re-create geojson data, please call shp2json(shp, rebuild=True).\n",
        "send: {\"command\": \"add_layer\", \"uuid\": \"fada5469634f1c862e648cf39a78cf3b\"}\n"
       ]
      }
     ],
     "prompt_number": 16
    },
    {
     "cell_type": "code",
     "collapsed": false,
     "input": [
      "# show the map in CartoDB\n",
      "d3viz.cartodb_show_maps([{'name':road_table,'type':'line'}])"
     ],
     "language": "python",
     "metadata": {},
     "outputs": [],
     "prompt_number": 17
    },
    {
     "cell_type": "code",
     "collapsed": false,
     "input": [
      "# show quantile map in CartoDB\n",
      "d3viz.cartodb_quantile_map(road_shp, 'cnt', 5, uuid=road_table)"
     ],
     "language": "python",
     "metadata": {},
     "outputs": []
    },
    {
     "cell_type": "code",
     "collapsed": false,
     "input": [
      "# LISA\n",
      "import numpy as np\n",
      "y = np.array(road_dbf.by_col[\"cnt\"])\n",
      "lm = pysal.Moran_Local(y, road_w)"
     ],
     "language": "python",
     "metadata": {},
     "outputs": []
    }
   ],
   "metadata": {}
  }
 ]
}