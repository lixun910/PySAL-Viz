{
 "metadata": {
  "name": ""
 },
 "nbformat": 3,
 "nbformat_minor": 0,
 "worksheets": [
  {
   "cells": [
    {
     "cell_type": "code",
     "collapsed": false,
     "input": [
      "import pysal\n",
      "\n",
      "# load San Francisco plots data using PySAL\n",
      "shp_path = \"../test_data/sfpd_plots.shp\"\n",
      "plots_shp = pysal.open(shp_path)\n",
      "plots_dbf = pysal.open(shp_path[:-3]+\"dbf\") "
     ],
     "language": "python",
     "metadata": {},
     "outputs": [],
     "prompt_number": 1
    },
    {
     "cell_type": "code",
     "collapsed": false,
     "input": [
      "import d3viz\n",
      "d3viz.setup()"
     ],
     "language": "python",
     "metadata": {},
     "outputs": [
      {
       "output_type": "stream",
       "stream": "stdout",
       "text": [
        "starting websocket server...\n",
        "starting http server...\n"
       ]
      }
     ],
     "prompt_number": 2
    },
    {
     "cell_type": "code",
     "collapsed": false,
     "input": [
      "\"\"\"\n",
      "Viualize the map using d3viz\n",
      "\"\"\"\n",
      "d3viz.show_map(plots_shp)"
     ],
     "language": "python",
     "metadata": {},
     "outputs": [
      {
       "output_type": "stream",
       "stream": "stdout",
       "text": [
        "creating geojson ...\n",
        "The geojson data has been created before. If you want re-create geojson data, please call shp2json(shp, rebuild=True).\n",
        "send: {\"command\": \"add_layer\", \"uuid\": \"fb47ecbfd972fdb210fd82bdb5869810\"}\n"
       ]
      }
     ],
     "prompt_number": 3
    },
    {
     "cell_type": "code",
     "collapsed": false,
     "input": [
      "\"\"\"\n",
      "Read and show Car theft data in the same plots area\n",
      "\"\"\"\n",
      "shp_path = \"/data/sf_cartheft.shp\"\n",
      "crime_shp = pysal.open(shp_path)\n",
      "crime_dbf = pysal.open(shp_path[:-3]+\"dbf\")\n",
      "\n",
      "d3viz.show_map(crime_shp)"
     ],
     "language": "python",
     "metadata": {},
     "outputs": [
      {
       "output_type": "stream",
       "stream": "stdout",
       "text": [
        "creating geojson ...\n",
        "The geojson data has been created before. If you want re-create geojson data, please call shp2json(shp, rebuild=True).\n",
        "send: {\"command\": \"add_layer\", \"uuid\": \"0be368e7e574086a0e6ebc48d4825eda\"}\n"
       ]
      }
     ],
     "prompt_number": 4
    },
    {
     "cell_type": "code",
     "collapsed": false,
     "input": [
      "\"\"\"\n",
      "Setup CartoDB using your user name and API_KEY\n",
      "Note: Get your API Key from CartoDB: http://docs.cartodb.com/cartodb-editor.html#api-key\n",
      "\"\"\"\n",
      "user_name = 'lixun910'\n",
      "api_key = '340808e9a453af9680684a65990eb4eb706e9b56'\n",
      "\n",
      "d3viz.setup_cartodb(api_key, user_name)"
     ],
     "language": "python",
     "metadata": {},
     "outputs": [],
     "prompt_number": 5
    },
    {
     "cell_type": "code",
     "collapsed": false,
     "input": [
      "\"\"\"\n",
      "Upload polygon shapefile via CartoDB.com\n",
      "Upload point shapefile via CartoDB.com\n",
      "\"\"\"\n",
      "\n",
      "plots_table = d3viz.cartodb_upload(plots_shp)\n",
      "crime_table = d3viz.cartodb_upload(crime_shp)\n",
      "print plots_table\n",
      "print crime_table"
     ],
     "language": "python",
     "metadata": {},
     "outputs": [
      {
       "output_type": "stream",
       "stream": "stdout",
       "text": [
        "table fb47ecbfd972fdb210fd82bdb5869810 existed\n",
        "table table_0be368e7e574086a0e6ebc48d4825eda existed"
       ]
      },
      {
       "output_type": "stream",
       "stream": "stdout",
       "text": [
        "\n",
        "fb47ecbfd972fdb210fd82bdb5869810\n",
        "table_0be368e7e574086a0e6ebc48d4825eda\n"
       ]
      },
      {
       "output_type": "stream",
       "stream": "stderr",
       "text": [
        "/Library/Python/2.7/site-packages/requests/packages/urllib3/connectionpool.py:730: InsecureRequestWarning: Unverified HTTPS request is being made. Adding certificate verification is strongly advised. See: https://urllib3.readthedocs.org/en/latest/security.html (This warning will only appear once by default.)\n",
        "  InsecureRequestWarning)\n"
       ]
      }
     ],
     "prompt_number": 6
    },
    {
     "cell_type": "code",
     "collapsed": false,
     "input": [
      "\"\"\"\n",
      "Show the polygon shapefile and point shapefile in one CartoDB map\n",
      "\"\"\"\n",
      "d3viz.cartodb_show_maps(plots_shp, layers=[{'shp':crime_shp}])"
     ],
     "language": "python",
     "metadata": {},
     "outputs": [],
     "prompt_number": 7
    },
    {
     "cell_type": "code",
     "collapsed": false,
     "input": [
      "\"\"\"\n",
      "Show the plots shapefile with points data in intensity cloud\n",
      "\"\"\"\n",
      "d3viz.cartodb_show_maps(plots_shp, layers=[{'shp':crime_shp, 'css':d3viz.CARTO_CSS_POINT_CLOUD}])"
     ],
     "language": "python",
     "metadata": {},
     "outputs": [],
     "prompt_number": 8
    },
    {
     "cell_type": "code",
     "collapsed": false,
     "input": [
      "\"\"\"\n",
      "Do something cool: couting points in polygon, \n",
      "and store the counting result in a new column in polygon table\n",
      "\"\"\"\n",
      "new_cnt_col = \"mycnt\"\n",
      "d3viz.cartodb_count_pts_in_polys(plots_table, crime_table, new_cnt_col)\n"
     ],
     "language": "python",
     "metadata": {},
     "outputs": [],
     "prompt_number": 9
    },
    {
     "cell_type": "code",
     "collapsed": false,
     "input": [
      "\"\"\"\n",
      "Download the counting data for spatial analysis using PySAL\n",
      "\"\"\"\n",
      "shp_path = d3viz.cartodb_get_data(plots_table, [new_cnt_col])"
     ],
     "language": "python",
     "metadata": {},
     "outputs": [],
     "prompt_number": 10
    },
    {
     "cell_type": "code",
     "collapsed": false,
     "input": [
      "\"\"\"\n",
      "prepare for running LISA\n",
      "\"\"\"\n",
      "shp = pysal.open(shp_path)\n",
      "dbf = pysal.open(shp_path[:-3]+\"dbf\") \n",
      "w = pysal.rook_from_shapefile(shp_path)"
     ],
     "language": "python",
     "metadata": {},
     "outputs": [
      {
       "output_type": "stream",
       "stream": "stdout",
       "text": [
        "WARNING: there is one disconnected observation (no neighbors)\n",
        "Island id:  [0]\n"
       ]
      }
     ],
     "prompt_number": 11
    },
    {
     "cell_type": "code",
     "collapsed": false,
     "input": [
      "\"\"\"\n",
      "Run LISA and store results in CartoDB in a new table\n",
      "\"\"\"\n",
      "import numpy as np\n",
      "y = np.array(dbf.by_col[new_cnt_col])\n",
      "lm = pysal.Moran_Local(y, w)\n",
      "\n",
      "new_lisa_table = \"cartheft_lisa\" \n",
      "new_lisa_table = d3viz.cartodb_lisa(lm, new_lisa_table)"
     ],
     "language": "python",
     "metadata": {},
     "outputs": [
      {
       "output_type": "stream",
       "stream": "stdout",
       "text": [
        "WARNING:  0  is an island (no neighbors)\n",
        "Table \"cartheft_lisa_3\" created"
       ]
      },
      {
       "output_type": "stream",
       "stream": "stdout",
       "text": [
        "\n"
       ]
      }
     ],
     "prompt_number": 12
    },
    {
     "cell_type": "code",
     "collapsed": false,
     "input": [
      "\"\"\"\n",
      "Show LISA map in CartoDB\n",
      "\"\"\"\n",
      "d3viz.cartodb_show_lisa_map(shp, new_lisa_table, uuid=plots_table)"
     ],
     "language": "python",
     "metadata": {},
     "outputs": [],
     "prompt_number": 13
    },
    {
     "cell_type": "code",
     "collapsed": false,
     "input": [
      "\"\"\"\n",
      "Show LISA map with points dense map in CartoDB\n",
      "\"\"\"\n",
      "d3viz.cartodb_show_lisa_map(shp, new_lisa_table, uuid=plots_table, layers=[{'shp':crime_shp, 'css':d3viz.CARTO_CSS_POINT_CLOUD}])"
     ],
     "language": "python",
     "metadata": {},
     "outputs": [],
     "prompt_number": 14
    },
    {
     "cell_type": "code",
     "collapsed": false,
     "input": [
      "d3viz.show_map(shp)"
     ],
     "language": "python",
     "metadata": {},
     "outputs": [
      {
       "output_type": "stream",
       "stream": "stdout",
       "text": [
        "creating geojson ...\n",
        "The geojson data has been created before. If you want re-create geojson data, please call shp2json(shp, rebuild=True).\n",
        "send: {\"command\": \"add_layer\", \"uuid\": \"a2696302c23b22263603d8b73fc0242d\"}\n"
       ]
      }
     ],
     "prompt_number": 15
    },
    {
     "cell_type": "code",
     "collapsed": false,
     "input": [
      "d3viz.quantile_map(shp, new_cnt_col, 5, basemap=\"leaflet_map\")"
     ],
     "language": "python",
     "metadata": {},
     "outputs": [],
     "prompt_number": 16
    },
    {
     "cell_type": "code",
     "collapsed": false,
     "input": [
      "d3viz.quantile_map(shp, new_cnt_col, 5)"
     ],
     "language": "python",
     "metadata": {},
     "outputs": [],
     "prompt_number": 17
    },
    {
     "cell_type": "code",
     "collapsed": false,
     "input": [
      "d3viz.close_all()"
     ],
     "language": "python",
     "metadata": {},
     "outputs": [],
     "prompt_number": "*"
    },
    {
     "cell_type": "code",
     "collapsed": false,
     "input": [],
     "language": "python",
     "metadata": {},
     "outputs": []
    }
   ],
   "metadata": {}
  }
 ]
}