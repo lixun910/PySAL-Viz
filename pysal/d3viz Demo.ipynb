{
 "metadata": {
  "name": "",
  "signature": "sha256:53f510b985c013a6a425aabb365e90a4cb6498390de979dd3f2eb35e527ee751"
 },
 "nbformat": 3,
 "nbformat_minor": 0,
 "worksheets": [
  {
   "cells": [
    {
     "cell_type": "code",
     "collapsed": false,
     "input": [
      "import pysal"
     ],
     "language": "python",
     "metadata": {},
     "outputs": [],
     "prompt_number": 1
    },
    {
     "cell_type": "code",
     "collapsed": false,
     "input": [
      "shp = pysal.open(pysal.examples.get_path('NAT.shp'),'r')\n",
      "dbf = pysal.open(pysal.examples.get_path('NAT.dbf'),'r')"
     ],
     "language": "python",
     "metadata": {},
     "outputs": [],
     "prompt_number": 2
    },
    {
     "cell_type": "code",
     "collapsed": false,
     "input": [
      "import d3viz\n",
      "\"\"\"\n",
      "There is no dependent library, no extra command lines.\n",
      "Just call setup() to start a websocket server and a http server, \n",
      "and open a main web page.\n",
      "\n",
      "Note: if websocket/http server has already been started, \n",
      "this function will close these servers first.\n",
      "\"\"\""
     ],
     "language": "python",
     "metadata": {},
     "outputs": [
      {
       "metadata": {},
       "output_type": "pyout",
       "prompt_number": 3,
       "text": [
        "'\\nThere is no dependent library, no extra command lines.\\nJust call setup() to start a websocket server and a http server, \\nand open a main web page.\\n\\nNote: if websocket/http server has already been started, \\nthis function will close these servers first.\\n'"
       ]
      }
     ],
     "prompt_number": 3
    },
    {
     "cell_type": "code",
     "collapsed": false,
     "input": [
      "d3viz.setup()"
     ],
     "language": "python",
     "metadata": {},
     "outputs": [
      {
       "output_type": "stream",
       "stream": "stdout",
       "text": [
        "starting websocket server...\n",
        "starting http server...\n"
       ]
      }
     ],
     "prompt_number": 4
    },
    {
     "cell_type": "code",
     "collapsed": false,
     "input": [
      "\"\"\"\n",
      "show a base map of NAT.shp. \n",
      "Note: A geojson file will be created using the shapefile and dbf file. \n",
      "The web page will use this geojson file to show map.\n",
      "\"\"\"\n",
      "d3viz.show_map(shp)"
     ],
     "language": "python",
     "metadata": {},
     "outputs": [
      {
       "output_type": "stream",
       "stream": "stdout",
       "text": [
        "creating geojson ...\n",
        "The geojson data has been created before. If you want re-create geojson data, please call shp2json(shp, rebuild=True).\n",
        "send: {\"command\": \"show_map\", \"uuid\": \"0ec382638a9059ebc5d87430bb08a1a2\"}\n"
       ]
      }
     ],
     "prompt_number": 5
    },
    {
     "cell_type": "code",
     "collapsed": false,
     "input": [
      "\"\"\"\n",
      "User can also call select() function in Python to trigger selection on the map in web browser.\n",
      "For example:\n",
      "select polygons with \"HC60\" variable <= 30.0\n",
      "\"\"\"\n",
      "select_ids = [i for i,v in enumerate(dbf.by_col[\"HC60\"]) if v <= 0.001]\n",
      "d3viz.select(shp, ids=select_ids)"
     ],
     "language": "python",
     "metadata": {},
     "outputs": [],
     "prompt_number": 6
    },
    {
     "cell_type": "code",
     "collapsed": false,
     "input": [
      "\"\"\"\n",
      "User can create and show a quantile map in a pop-up web page.\n",
      "Note: the quantile computation is done using pysal.esda.mapclassify.Quantiles()\n",
      "\"\"\"\n",
      "d3viz.quantile_map(shp, \"HR90\", 5)"
     ],
     "language": "python",
     "metadata": {},
     "outputs": [],
     "prompt_number": 7
    },
    {
     "cell_type": "code",
     "collapsed": false,
     "input": [
      "\"\"\"\n",
      "Note: All map related operations (e.g. change color scheme, selection,...) can be done on the web page.\n",
      "\"\"\"\n",
      "d3viz.quantile_map(shp, \"HC70\", 7)"
     ],
     "language": "python",
     "metadata": {},
     "outputs": [],
     "prompt_number": 8
    },
    {
     "cell_type": "code",
     "collapsed": false,
     "input": [
      "\"\"\"\n",
      "If the projections are correct. Users can show the map using Leaflet\n",
      "(OSM, Google Maps, CartoDB...)\n",
      "\"\"\"\n",
      "d3viz.quantile_map(shp, \"HC70\", 5, basemap=\"leaflet_map\")"
     ],
     "language": "python",
     "metadata": {},
     "outputs": [],
     "prompt_number": 9
    },
    {
     "cell_type": "code",
     "collapsed": false,
     "input": [
      "\"\"\"\n",
      "@Scatter Plot with LOESS fitted curve\n",
      "\"\"\"\n",
      "d3viz.scatter_plot(shp, [\"HR90\",\"UE90\"])"
     ],
     "language": "python",
     "metadata": {},
     "outputs": [],
     "prompt_number": 8
    },
    {
     "cell_type": "code",
     "collapsed": false,
     "input": [
      "\"\"\"\n",
      "@Univ Moran Scatter Plot with LOESS fitted curve\n",
      "The code behind:\n",
      "y = np.array(dbf.by_col(\"HR90\"))\n",
      "y_lag = lag_spatial(w, y)\n",
      "\"\"\"\n",
      "w = pysal.rook_from_shapefile(pysal.examples.get_path('NAT.shp'))\n",
      "d3viz.moran_scatter_plot(shp, dbf, \"HR90\", w)"
     ],
     "language": "python",
     "metadata": {},
     "outputs": [],
     "prompt_number": 6
    },
    {
     "cell_type": "code",
     "collapsed": false,
     "input": [
      "\"\"\"\n",
      "@LISA_MAP\n",
      "User can compute the Local Moran and visualize the LISA map in a popup web page.\n",
      "\"\"\"\n",
      "import numpy as np\n",
      "y = np.array(dbf.by_col[\"HR90\"])\n",
      "lm = pysal.Moran_Local(y, w)"
     ],
     "language": "python",
     "metadata": {},
     "outputs": [],
     "prompt_number": 7
    },
    {
     "cell_type": "code",
     "collapsed": false,
     "input": [
      "d3viz.lisa_map(shp, \"HR90\", lm)"
     ],
     "language": "python",
     "metadata": {},
     "outputs": [],
     "prompt_number": 8
    },
    {
     "cell_type": "code",
     "collapsed": false,
     "input": [
      "\"\"\"\n",
      "User can select objects in the opened map in web browser. \n",
      "Python can call get_selected(shp) to retrieve selected ids.\n",
      "!!!\n",
      "NOTE: PLEASE DO SELECT IN THE MAP, OTHERWISE THE PROGRAM WILL HANG IN HERE\n",
      "\"\"\"\n",
      "select_ids = d3viz.get_selected(shp)\n",
      "print select_ids[:10]"
     ],
     "language": "python",
     "metadata": {},
     "outputs": []
    },
    {
     "cell_type": "code",
     "collapsed": false,
     "input": [
      "d3viz.close_all()"
     ],
     "language": "python",
     "metadata": {},
     "outputs": []
    },
    {
     "cell_type": "code",
     "collapsed": false,
     "input": [],
     "language": "python",
     "metadata": {},
     "outputs": []
    },
    {
     "cell_type": "code",
     "collapsed": false,
     "input": [],
     "language": "python",
     "metadata": {},
     "outputs": []
    }
   ],
   "metadata": {}
  }
 ]
}