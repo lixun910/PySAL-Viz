{
 "metadata": {
  "name": "",
  "signature": "sha256:0b0c04db5a745727b27876a85e4455df4a08fd341d3e1823d695ba549e8e4f46"
 },
 "nbformat": 3,
 "nbformat_minor": 0,
 "worksheets": [
  {
   "cells": [
    {
     "cell_type": "code",
     "collapsed": false,
     "input": [
      "import pysal"
     ],
     "language": "python",
     "metadata": {},
     "outputs": [],
     "prompt_number": 1
    },
    {
     "cell_type": "code",
     "collapsed": false,
     "input": [
      "shp = pysal.open(pysal.examples.get_path('NAT.shp'),'r')\n",
      "dbf = pysal.open(pysal.examples.get_path('NAT.dbf'),'r')"
     ],
     "language": "python",
     "metadata": {},
     "outputs": [],
     "prompt_number": 2
    },
    {
     "cell_type": "code",
     "collapsed": false,
     "input": [
      "import d3viz\n",
      "\"\"\"\n",
      "There is no dependent library, no extra command lines.\n",
      "Just call setup() to start a websocket server and a http server, \n",
      "and open a main web page.\n",
      "\n",
      "Note: if websocket/http server has already been started, \n",
      "this function will close these servers first.\n",
      "\"\"\""
     ],
     "language": "python",
     "metadata": {},
     "outputs": [
      {
       "metadata": {},
       "output_type": "pyout",
       "prompt_number": 3,
       "text": [
        "'\\nThere is no dependent library, no extra command lines.\\nJust call setup() to start a websocket server and a http server, \\nand open a main web page.\\n\\nNote: if websocket/http server has already been started, \\nthis function will close these servers first.\\n'"
       ]
      }
     ],
     "prompt_number": 3
    },
    {
     "cell_type": "code",
     "collapsed": false,
     "input": [
      "d3viz.setup()"
     ],
     "language": "python",
     "metadata": {},
     "outputs": [
      {
       "output_type": "stream",
       "stream": "stdout",
       "text": [
        "starting websocket server...\n",
        "starting http server...\n"
       ]
      }
     ],
     "prompt_number": 4
    },
    {
     "cell_type": "code",
     "collapsed": false,
     "input": [
      "\"\"\"\n",
      "show a base map of NAT.shp. \n",
      "Note: A geojson file will be created using the shapefile and dbf file. \n",
      "The web page will use this geojson file to show map.\n",
      "\"\"\"\n",
      "d3viz.show_map(shp)"
     ],
     "language": "python",
     "metadata": {},
     "outputs": [
      {
       "output_type": "stream",
       "stream": "stdout",
       "text": [
        "creating geojson ...\n",
        "The geojson data has been created before. If you want re-create geojson data, please call shp2json(shp, rebuild=True).\n",
        "send: {\"command\": \"add_layer\", \"uuid\": \"1fc576f6d738b4a04e1b033356d3bda5\"}\n"
       ]
      }
     ],
     "prompt_number": 5
    },
    {
     "cell_type": "code",
     "collapsed": false,
     "input": [
      "\"\"\"\n",
      "User can also call select() function in Python to trigger selection on the map in web browser.\n",
      "For example:\n",
      "select polygons with \"HC60\" variable <= 30.0\n",
      "\"\"\"\n",
      "select_ids = [i for i,v in enumerate(dbf.by_col[\"HC60\"]) if v <= 0.001]\n",
      "d3viz.select(shp, ids=select_ids)"
     ],
     "language": "python",
     "metadata": {},
     "outputs": [],
     "prompt_number": 6
    },
    {
     "cell_type": "code",
     "collapsed": false,
     "input": [
      "\"\"\"\n",
      "User can create and show a quantile map in a pop-up web page.\n",
      "Note: the quantile computation is done using pysal.esda.mapclassify.Quantiles()\n",
      "\"\"\"\n",
      "d3viz.quantile_map(shp, \"HR90\", 5)"
     ],
     "language": "python",
     "metadata": {},
     "outputs": [],
     "prompt_number": 7
    },
    {
     "cell_type": "code",
     "collapsed": false,
     "input": [
      "\"\"\"\n",
      "Note: All map related operations (e.g. change color scheme, selection,...) can be done on the web page.\n",
      "\"\"\"\n",
      "d3viz.quantile_map(shp, \"HC70\", 7)"
     ],
     "language": "python",
     "metadata": {},
     "outputs": [],
     "prompt_number": 8
    },
    {
     "cell_type": "code",
     "collapsed": false,
     "input": [
      "\"\"\"\n",
      "If the projections are correct. Users can show the map using Leaflet\n",
      "(OSM, Google Maps, CartoDB...)\n",
      "\"\"\"\n",
      "d3viz.quantile_map(shp, \"HC70\", 5, basemap=\"leaflet_map\")"
     ],
     "language": "python",
     "metadata": {},
     "outputs": [],
     "prompt_number": 9
    },
    {
     "cell_type": "code",
     "collapsed": false,
     "input": [
      "\"\"\"\n",
      "@Scatter Plot with LOESS fitted curve\n",
      "\"\"\"\n",
      "d3viz.scatter_plot(shp, [\"HR90\",\"UE90\"])"
     ],
     "language": "python",
     "metadata": {},
     "outputs": [],
     "prompt_number": 10
    },
    {
     "cell_type": "code",
     "collapsed": false,
     "input": [
      "\"\"\"\n",
      "@Univ Moran Scatter Plot with LOESS fitted curve\n",
      "The code behind:\n",
      "y = np.array(dbf.by_col(\"HR90\"))\n",
      "y_lag = lag_spatial(w, y)\n",
      "\"\"\"\n",
      "w = pysal.rook_from_shapefile(pysal.examples.get_path('NAT.shp'))\n",
      "d3viz.moran_scatter_plot(shp, dbf, \"HR90\", w)"
     ],
     "language": "python",
     "metadata": {},
     "outputs": [],
     "prompt_number": 11
    },
    {
     "cell_type": "code",
     "collapsed": false,
     "input": [
      "\"\"\"\n",
      "@LISA_MAP\n",
      "User can compute the Local Moran and visualize the LISA map in a popup web page.\n",
      "\"\"\"\n",
      "d3viz.lisa_map(shp, dbf, \"HR90\", w)"
     ],
     "language": "python",
     "metadata": {},
     "outputs": [],
     "prompt_number": 12
    },
    {
     "cell_type": "code",
     "collapsed": false,
     "input": [],
     "language": "python",
     "metadata": {},
     "outputs": [],
     "prompt_number": 18
    },
    {
     "cell_type": "code",
     "collapsed": false,
     "input": [
      "\"\"\"\n",
      "User can select objects in the opened map in web browser. \n",
      "Python can call get_selected(shp) to retrieve selected ids.\n",
      "!!!\n",
      "NOTE: PLEASE DO SELECT IN THE MAP, OTHERWISE THE PROGRAM WILL HANG IN HERE\n",
      "\"\"\"\n",
      "select_ids = d3viz.get_selected(shp)\n",
      "print select_ids[:10]"
     ],
     "language": "python",
     "metadata": {},
     "outputs": [
      {
       "output_type": "stream",
       "stream": "stdout",
       "text": [
        "receiving...\n",
        "[963, 968, 972, 973, 975, 976, 977, 982, 983, 985]\n"
       ]
      }
     ],
     "prompt_number": 13
    },
    {
     "cell_type": "code",
     "collapsed": false,
     "input": [
      "d3viz.close_all()"
     ],
     "language": "python",
     "metadata": {},
     "outputs": [
      {
       "ename": "WebSocketException",
       "evalue": "Not a valid frame None",
       "output_type": "pyerr",
       "traceback": [
        "\u001b[0;31m---------------------------------------------------------------------------\u001b[0m\n\u001b[0;31mWebSocketException\u001b[0m                        Traceback (most recent call last)",
        "\u001b[0;32m<ipython-input-14-489429544644>\u001b[0m in \u001b[0;36m<module>\u001b[0;34m()\u001b[0m\n\u001b[0;32m----> 1\u001b[0;31m \u001b[0md3viz\u001b[0m\u001b[0;34m.\u001b[0m\u001b[0mclose_all\u001b[0m\u001b[0;34m(\u001b[0m\u001b[0;34m)\u001b[0m\u001b[0;34m\u001b[0m\u001b[0m\n\u001b[0m",
        "\u001b[0;32m/Users/xun/github/PySAL-Viz/pysal/d3viz.pyc\u001b[0m in \u001b[0;36mclose_all\u001b[0;34m()\u001b[0m\n\u001b[1;32m    444\u001b[0m     \u001b[0;31m#print \"send:\", str_msg\u001b[0m\u001b[0;34m\u001b[0m\u001b[0;34m\u001b[0m\u001b[0m\n\u001b[1;32m    445\u001b[0m     \u001b[0;32mprint\u001b[0m \u001b[0;34m\"receiving...\"\u001b[0m\u001b[0;34m\u001b[0m\u001b[0m\n\u001b[0;32m--> 446\u001b[0;31m     \u001b[0mrsp\u001b[0m \u001b[0;34m=\u001b[0m \u001b[0mws\u001b[0m\u001b[0;34m.\u001b[0m\u001b[0mrecv\u001b[0m\u001b[0;34m(\u001b[0m\u001b[0;34m)\u001b[0m\u001b[0;34m\u001b[0m\u001b[0m\n\u001b[0m\u001b[1;32m    447\u001b[0m     \u001b[0mws\u001b[0m\u001b[0;34m.\u001b[0m\u001b[0mclose\u001b[0m\u001b[0;34m(\u001b[0m\u001b[0;34m)\u001b[0m\u001b[0;34m\u001b[0m\u001b[0m\n\u001b[1;32m    448\u001b[0m \u001b[0;34m\u001b[0m\u001b[0m\n",
        "\u001b[0;32m/Users/xun/github/PySAL-Viz/pysal/websocket.pyc\u001b[0m in \u001b[0;36mrecv\u001b[0;34m(self)\u001b[0m\n\u001b[1;32m    527\u001b[0m         \u001b[0;32mreturn\u001b[0m \u001b[0mvalue\u001b[0m\u001b[0;34m:\u001b[0m \u001b[0mstring\u001b[0m\u001b[0;34m(\u001b[0m\u001b[0mbyte\u001b[0m \u001b[0marray\u001b[0m\u001b[0;34m)\u001b[0m \u001b[0mvalue\u001b[0m\u001b[0;34m.\u001b[0m\u001b[0;34m\u001b[0m\u001b[0m\n\u001b[1;32m    528\u001b[0m         \"\"\"\n\u001b[0;32m--> 529\u001b[0;31m         \u001b[0mopcode\u001b[0m\u001b[0;34m,\u001b[0m \u001b[0mdata\u001b[0m \u001b[0;34m=\u001b[0m \u001b[0mself\u001b[0m\u001b[0;34m.\u001b[0m\u001b[0mrecv_data\u001b[0m\u001b[0;34m(\u001b[0m\u001b[0;34m)\u001b[0m\u001b[0;34m\u001b[0m\u001b[0m\n\u001b[0m\u001b[1;32m    530\u001b[0m         \u001b[0;32mreturn\u001b[0m \u001b[0mdata\u001b[0m\u001b[0;34m\u001b[0m\u001b[0m\n\u001b[1;32m    531\u001b[0m \u001b[0;34m\u001b[0m\u001b[0m\n",
        "\u001b[0;32m/Users/xun/github/PySAL-Viz/pysal/websocket.pyc\u001b[0m in \u001b[0;36mrecv_data\u001b[0;34m(self)\u001b[0m\n\u001b[1;32m    541\u001b[0m                 \u001b[0;31m# handle error:\u001b[0m\u001b[0;34m\u001b[0m\u001b[0;34m\u001b[0m\u001b[0m\n\u001b[1;32m    542\u001b[0m                 \u001b[0;31m# 'NoneType' object has no attribute 'opcode'\u001b[0m\u001b[0;34m\u001b[0m\u001b[0;34m\u001b[0m\u001b[0m\n\u001b[0;32m--> 543\u001b[0;31m                 \u001b[0;32mraise\u001b[0m \u001b[0mWebSocketException\u001b[0m\u001b[0;34m(\u001b[0m\u001b[0;34m\"Not a valid frame %s\"\u001b[0m \u001b[0;34m%\u001b[0m \u001b[0mframe\u001b[0m\u001b[0;34m)\u001b[0m\u001b[0;34m\u001b[0m\u001b[0m\n\u001b[0m\u001b[1;32m    544\u001b[0m             \u001b[0;32melif\u001b[0m \u001b[0mframe\u001b[0m\u001b[0;34m.\u001b[0m\u001b[0mopcode\u001b[0m \u001b[0;32min\u001b[0m \u001b[0;34m(\u001b[0m\u001b[0mABNF\u001b[0m\u001b[0;34m.\u001b[0m\u001b[0mOPCODE_TEXT\u001b[0m\u001b[0;34m,\u001b[0m \u001b[0mABNF\u001b[0m\u001b[0;34m.\u001b[0m\u001b[0mOPCODE_BINARY\u001b[0m\u001b[0;34m)\u001b[0m\u001b[0;34m:\u001b[0m\u001b[0;34m\u001b[0m\u001b[0m\n\u001b[1;32m    545\u001b[0m                 \u001b[0;32mreturn\u001b[0m \u001b[0;34m(\u001b[0m\u001b[0mframe\u001b[0m\u001b[0;34m.\u001b[0m\u001b[0mopcode\u001b[0m\u001b[0;34m,\u001b[0m \u001b[0mframe\u001b[0m\u001b[0;34m.\u001b[0m\u001b[0mdata\u001b[0m\u001b[0;34m)\u001b[0m\u001b[0;34m\u001b[0m\u001b[0m\n",
        "\u001b[0;31mWebSocketException\u001b[0m: Not a valid frame None"
       ]
      },
      {
       "output_type": "stream",
       "stream": "stdout",
       "text": [
        "receiving...\n"
       ]
      }
     ],
     "prompt_number": 14
    },
    {
     "cell_type": "code",
     "collapsed": false,
     "input": [],
     "language": "python",
     "metadata": {},
     "outputs": []
    }
   ],
   "metadata": {}
  }
 ]
}